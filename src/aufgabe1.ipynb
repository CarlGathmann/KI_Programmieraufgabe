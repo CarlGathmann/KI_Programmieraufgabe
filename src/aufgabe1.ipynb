{
 "cells": [
  {
   "cell_type": "markdown",
   "id": "f0400fe7-1e50-481d-bb7e-62f2c126d4c2",
   "metadata": {},
   "source": [
    "# Aufgabe 1 - Akku-Abenteuer: Tobi's Optimale Routenplanung"
   ]
  },
  {
   "cell_type": "markdown",
   "id": "e59687f3-c461-4f6e-a898-d023cdc8c67c",
   "metadata": {},
   "source": [
    "Den Code immer nachvollziehbar kommentieren! Bitte beachtet, dass das Notebook von Anfang bis Ende ohne Fehler durchlaufen muss und dass die requirements.txt Datei aktualisiert wird. "
   ]
  },
  {
   "cell_type": "markdown",
   "id": "ec5f0020-55eb-4023-a883-90ac6206cfb3",
   "metadata": {},
   "source": [
    "## Teilaufgabe a): lageplan.png laden und verarbeiten"
   ]
  },
  {
   "cell_type": "code",
   "execution_count": null,
   "outputs": [],
   "source": [
    "from PIL import Image\n",
    "import numpy as np\n",
    "\n",
    "# open lageplan and downscale it to 21x21 using nearest neighbor interpolation\n",
    "image = Image.open(\"lageplan.png\").resize((21, 21), Image.NEAREST)\n",
    "img_array = np.array(image)\n",
    "# map colors to corresponding labels\n",
    "color_map = {\n",
    "    (255, 255, 255, 0): \"out\",\n",
    "    (0, 0, 0, 255): \"wall\",\n",
    "    (200, 113, 55, 255): \"hall\",\n",
    "    (0, 255, 0, 255): \"prof\",\n",
    "    (255, 255, 0, 255): \"lab\",\n",
    "    (0, 0, 255, 255): \"tea\"\n",
    "}\n",
    "# find all unique colors \n",
    "# colors = np.unique(image.reshape(-1, image.shape[2]), axis=0)\n",
    "\n",
    "# change rgb values to color labels e.g. \"out\"\n",
    "mapper = lambda x: color_map.get(tuple(x))\n",
    "plan = np.apply_along_axis(mapper, 2, img_array)\n",
    "\n",
    "plan = np.swapaxes(plan, 0, 1)  # flip x and y to make it similar to task\n"
   ],
   "metadata": {
    "collapsed": false
   },
   "id": "693ebcdb53e0aeb4"
  },
  {
   "cell_type": "code",
   "execution_count": null,
   "outputs": [],
   "source": [
    "from PIL import ImageDraw\n",
    "\n",
    "\n",
    "def visualize_path(path, title):\n",
    "    \"\"\"Visualize Path by blending the original image with an overlay\"\"\"\n",
    "    # Create a transparent overlay\n",
    "    old_image = Image.open(\"lageplan.png\")\n",
    "    overlay = Image.new(\"RGBA\", old_image.size, (0, 0, 0, 0))\n",
    "    draw = ImageDraw.Draw(overlay)\n",
    "\n",
    "    # Draw the path on the overlay\n",
    "    for x, y in path:\n",
    "        draw.rectangle([(x*20+5, y*20+5), (x*20+15, y*20+15)], fill=(255, 255, 255, 200))\n",
    "\n",
    "    # Combine the original image with the overlay\n",
    "    result = Image.alpha_composite(old_image.convert(\"RGBA\"), overlay)\n",
    "\n",
    "    result.save(\"outputs/\" + title + \".png\")\n",
    "\n",
    "    # Display the result\n",
    "    result.show()"
   ],
   "metadata": {
    "collapsed": false
   },
   "id": "7b09bcf26547530"
  },
  {
   "cell_type": "markdown",
   "source": [],
   "metadata": {
    "collapsed": false
   },
   "id": "dd9a3623334c3f2a"
  },
  {
   "cell_type": "markdown",
   "id": "b16c6c68-033e-4d57-ba02-fc86c53f34f1",
   "metadata": {},
   "source": [
    "## Teilaufgabe b): Breitensuche"
   ]
  },
  {
   "cell_type": "code",
   "execution_count": null,
   "id": "3f484794-3ab2-4edf-84e4-8debf29b1d57",
   "metadata": {},
   "outputs": [],
   "source": [
    "from collections import deque\n",
    "\n",
    "start = (3, 17)\n",
    "goal = (1, 3)\n",
    "\n",
    "def bfs(start, goal):\n",
    "    \"\"\"\n",
    "    Method to execute the breadth first search of a given start and end point\n",
    "    :return: List of nodes representing the path bfs found\n",
    "    \"\"\"\n",
    "    queue = deque()\n",
    "    queue.append((start, [])) # append tuple of (node, list of steps taken)\n",
    "\n",
    "    while queue:\n",
    "        node, path = queue.popleft()\n",
    "        \n",
    "        # break and return path when goal is reached\n",
    "        if node == goal:\n",
    "            path.append(goal)\n",
    "            return path\n",
    "        \n",
    "        # one step in each direction (left, right, up, down)\n",
    "        possible_moves = [(node[0]+1, node[1]), \n",
    "                          (node[0]-1, node[1]), \n",
    "                          (node[0], node[1]+ 1), \n",
    "                          (node[0], node[1]- 1)]\n",
    "        \n",
    "        for move in possible_moves:\n",
    "            if plan[move] != ('wal' or 'out'):\n",
    "                # only append to queue if move is not labeled 'wal'/'out'\n",
    "                queue.append((move, path + [node]))\n",
    "visualize_path(bfs(start, goal), \"bfs\")"
   ]
  },
  {
   "cell_type": "markdown",
   "id": "2bb17fba-193f-4873-a631-7a902bb54675",
   "metadata": {},
   "source": [
    "## Teilaufgabe c): A*-Algorithmus"
   ]
  },
  {
   "cell_type": "code",
   "execution_count": null,
   "id": "9569d171-6ea9-4a8d-8c88-80210669ef7e",
   "metadata": {},
   "outputs": [],
   "source": [
    "def heuristic(node, goal):\n",
    "    \"\"\"\n",
    "    :return: The manhattan distance of a given node to goal\n",
    "    \"\"\"\n",
    "    return abs(node[0] - goal[0]) + abs(node[1] - goal[1])\n",
    "\n",
    "# corresponding costs for a label\n",
    "cost = {\n",
    "    \"hal\": 2,\n",
    "    \"tea\": 3,\n",
    "    \"pro\": 4,\n",
    "    \"lab\": 5,\n",
    "    \"wet\": 20,\n",
    "}\n",
    "\n",
    "def a_star(start, goal):\n",
    "    \"\"\"\n",
    "    method to execute the a-star search of a given start and end point\n",
    "    :return: list of nodes representing the path a_star found\n",
    "    \"\"\"\n",
    "    queue = [(start, [], 0)] # append tuple of (node, list of steps taken, path costs accumulated so far)\n",
    "    visited = np.zeros_like(plan, dtype=int) # array of visited nodes\n",
    "\n",
    "    # while queue is not empty\n",
    "    while queue:\n",
    "        node, path, path_cost = queue.pop(0)\n",
    "        visited[node] = 1\n",
    "        \n",
    "        # break and return path when goal is reached\n",
    "        if node == goal:\n",
    "            path.append(goal)\n",
    "            return path\n",
    "        \n",
    "        # one step in each direction (left, right, up, down)\n",
    "        possible_moves = [(node[0]+1, node[1]), \n",
    "                          (node[0]-1, node[1]), \n",
    "                          (node[0], node[1]+ 1), \n",
    "                          (node[0], node[1]- 1)] \n",
    "        \n",
    "        # filter out moves that are labeled 'wal'/'out' or have already been visited\n",
    "        possible_moves = filter(lambda x: plan[x] != ('wal' or 'out') and visited[x] == 0, possible_moves) \n",
    "        \n",
    "        # update moves with (current node, path + current node, cost + cost(current label))\n",
    "        moves = [(move, path + [node], path_cost + cost.get(plan[move], float(\"inf\")))\n",
    "                 for move in possible_moves]\n",
    "        queue.extend(moves)\n",
    "        \n",
    "        # sort the queue based the lowest value of f(x) = heuristic(x) + accumulated_path_cost(x)\n",
    "        queue = sorted(queue, key=lambda x:heuristic(x[0], goal) + x[2])\n",
    "\n",
    "path = a_star(start, goal)\n",
    "print(path)\n"
   ]
  },
  {
   "cell_type": "markdown",
   "id": "51e14a88-cf54-40a0-b118-05e243e0b995",
   "metadata": {
    "tags": []
   },
   "source": [
    "## Teilaufgabe d): Greedy Best First Search-Algorithmus"
   ]
  },
  {
   "cell_type": "code",
   "execution_count": null,
   "id": "65263759-2c02-43f0-b756-c8f8ad77b75e",
   "metadata": {},
   "outputs": [],
   "source": [
    "def gbf(start, goal):\n",
    "    \"\"\"\n",
    "    method to execute the a-star search of a given start and end point\n",
    "    :return: list of nodes representing the path gbf found\n",
    "    \"\"\"\n",
    "    queue = [(start, [])] # append tuple of (node, list of steps taken)\n",
    "    visited = np.zeros_like(plan, dtype=int) # array of visited nodes\n",
    "\n",
    "    # while queue is not empty\n",
    "    while queue:\n",
    "        node, path = queue.pop(0)\n",
    "        visited[node] = 1\n",
    "        \n",
    "        # break and return path when goal is reached\n",
    "        if node == goal:\n",
    "            path.append(goal)\n",
    "            return path\n",
    "        \n",
    "        # one step in each direction (left, right, up, down)\n",
    "        possible_moves = [(node[0]+1, node[1]), \n",
    "                          (node[0]-1, node[1]), \n",
    "                          (node[0], node[1]+ 1), \n",
    "                          (node[0], node[1]- 1)]\n",
    "        \n",
    "        # filter out moves that are labeled 'wal'/'out' or have already been visited\n",
    "        possible_moves = filter(lambda x: plan[x] != ('wal' or 'out') and visited[x] == 0, possible_moves)\n",
    "        \n",
    "        # extend que with (current node, path + current node)\n",
    "        queue.extend([(move, path + [node]) for move in possible_moves])\n",
    "        \n",
    "        # sort the queue based the lowest value of f(x) = heuristic(x)\n",
    "        queue = sorted(queue, key=lambda x:heuristic(x[0], goal))\n",
    "\n",
    "path = gbf(start, goal)\n",
    "print(path)\n"
   ]
  },
  {
   "cell_type": "markdown",
   "id": "ba0cffb4-b4dd-4df8-b7d5-f2f98c8a698b",
   "metadata": {
    "tags": []
   },
   "source": [
    "## Teilaufgabe e): Dusseliger Doktorand"
   ]
  },
  {
   "cell_type": "code",
   "execution_count": null,
   "outputs": [],
   "source": [
    "plan[3, 3:14] = 'hall'\n",
    "visualize_path(bfs(start, goal), \"bfs\")\n",
    "visualize_path(a_star(start, goal), \"a_star\")\n",
    "visualize_path(gbf(start, goal), \"gbf\")\n",
    "plan[3, 3:14] = 'wet'\n",
    "visualize_path(a_star(start, goal), \"a_star_wet\")\n",
    "# d) does not have to be executed again because gbf only uses the heuristic"
   ],
   "metadata": {
    "collapsed": false
   },
   "id": "3114b63b1fdc1645"
  }
 ],
 "metadata": {
  "kernelspec": {
   "display_name": "Python 3 (ipykernel)",
   "language": "python",
   "name": "python3"
  },
  "language_info": {
   "codemirror_mode": {
    "name": "ipython",
    "version": 3
   },
   "file_extension": ".py",
   "mimetype": "text/x-python",
   "name": "python",
   "nbconvert_exporter": "python",
   "pygments_lexer": "ipython3",
   "version": "3.10.8"
  }
 },
 "nbformat": 4,
 "nbformat_minor": 5
}
