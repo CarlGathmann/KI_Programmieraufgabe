{
 "cells": [
  {
   "cell_type": "markdown",
   "id": "f0400fe7-1e50-481d-bb7e-62f2c126d4c2",
   "metadata": {},
   "source": [
    "# Aufgabe 1 - Akku-Abenteuer: Tobi's Optimale Routenplanung"
   ]
  },
  {
   "cell_type": "markdown",
   "id": "e59687f3-c461-4f6e-a898-d023cdc8c67c",
   "metadata": {},
   "source": [
    "Den Code immer nachvollziehbar kommentieren! Bitte beachtet, dass das Notebook von Anfang bis Ende ohne Fehler durchlaufen muss und dass die requirements.txt Datei aktualisiert wird. "
   ]
  },
  {
   "cell_type": "markdown",
   "id": "ec5f0020-55eb-4023-a883-90ac6206cfb3",
   "metadata": {},
   "source": [
    "## Teilaufgabe a): lageplan.png laden und verarbeiten"
   ]
  },
  {
   "cell_type": "code",
   "execution_count": 1,
   "outputs": [],
   "source": [
    "from PIL import Image\n",
    "import numpy as np\n",
    "\n",
    "image = Image.open(\"lageplan.png\").resize((21, 21), Image.NEAREST)\n",
    "img_array = np.array(image)\n",
    "color_map = {\n",
    "    (255, 255, 255, 0): \"out\",\n",
    "    (0, 0, 0, 255): \"wall\",\n",
    "    (200, 113, 55, 255): \"hall\",\n",
    "    (0, 255, 0, 255): \"prof\",\n",
    "    (255, 255, 0, 255): \"lab\",\n",
    "    (0, 0, 255, 255): \"tea\"\n",
    "}\n",
    "# find al uniqe colors\n",
    "# colors = np.unique(image.reshape(-1, image.shape[2]), axis=0)\n",
    "\n",
    "# change rgb values to color names\n",
    "mapper = lambda x: color_map.get(tuple(x))\n",
    "plan = np.apply_along_axis(mapper, 2, img_array)\n",
    "\n",
    "plan = np.swapaxes(plan, 0, 1)  # flip x and y axis\n"
   ],
   "metadata": {
    "collapsed": false,
    "ExecuteTime": {
     "end_time": "2023-05-16T06:32:23.896860Z",
     "start_time": "2023-05-16T06:32:23.697605Z"
    }
   }
  },
  {
   "cell_type": "code",
   "execution_count": 2,
   "outputs": [],
   "source": [
    "from PIL import ImageDraw\n",
    "\n",
    "\n",
    "def visualize_path(path, title):\n",
    "    # Create a transparent overlay\n",
    "    old_image = Image.open(\"lageplan.png\")\n",
    "    overlay = Image.new(\"RGBA\", old_image.size, (0, 0, 0, 0))\n",
    "    draw = ImageDraw.Draw(overlay)\n",
    "\n",
    "    # Draw the path on the overlay\n",
    "    for x, y in path:\n",
    "        draw.rectangle([(x*20+5, y*20+5), (x*20+15, y*20+15)], fill=(255, 255, 255, 200))\n",
    "\n",
    "    # Combine the original image with the overlay\n",
    "    result = Image.alpha_composite(old_image.convert(\"RGBA\"), overlay)\n",
    "\n",
    "    result.save(\"outputs/\" + title + \".png\")\n",
    "\n",
    "    # Display the result\n",
    "    result.show()"
   ],
   "metadata": {
    "collapsed": false,
    "ExecuteTime": {
     "end_time": "2023-05-16T06:32:23.912746Z",
     "start_time": "2023-05-16T06:32:23.903293Z"
    }
   }
  },
  {
   "cell_type": "markdown",
   "source": [],
   "metadata": {
    "collapsed": false
   }
  },
  {
   "cell_type": "markdown",
   "id": "b16c6c68-033e-4d57-ba02-fc86c53f34f1",
   "metadata": {},
   "source": [
    "## Teilaufgabe b): Breitensuche"
   ]
  },
  {
   "cell_type": "code",
   "execution_count": 8,
   "id": "3f484794-3ab2-4edf-84e4-8debf29b1d57",
   "metadata": {
    "ExecuteTime": {
     "end_time": "2023-05-16T06:34:34.172964Z",
     "start_time": "2023-05-16T06:34:08.523003Z"
    }
   },
   "outputs": [],
   "source": [
    "from collections import deque\n",
    "\n",
    "start = (3, 17)\n",
    "goal = (1, 3)\n",
    "\n",
    "def bfs(start, goal):\n",
    "    queue = deque()\n",
    "    queue.append((start, []))\n",
    "\n",
    "    while queue:\n",
    "        node, path = queue.popleft()\n",
    "        if node == goal:\n",
    "            path.append(goal)\n",
    "            return path\n",
    "        else:\n",
    "            possible_moves = [(node[0]+1, node[1]), (node[0]-1, node[1]), (node[0], node[1]+ 1), (node[0], node[1]- 1)]\n",
    "            for move in possible_moves:\n",
    "                if plan[move] != ('wal' or 'out'):\n",
    "                    queue.append((move, path + [node]))\n",
    "visualize_path(bfs(start, goal), \"bfs\")"
   ]
  },
  {
   "cell_type": "markdown",
   "id": "2bb17fba-193f-4873-a631-7a902bb54675",
   "metadata": {},
   "source": [
    "## Teilaufgabe c): A*-Algorithmus"
   ]
  },
  {
   "cell_type": "code",
   "execution_count": 4,
   "id": "9569d171-6ea9-4a8d-8c88-80210669ef7e",
   "metadata": {
    "ExecuteTime": {
     "end_time": "2023-05-16T06:32:23.945140Z",
     "start_time": "2023-05-16T06:32:23.924991Z"
    }
   },
   "outputs": [
    {
     "name": "stdout",
     "output_type": "stream",
     "text": [
      "[(3, 17), (2, 17), (1, 17), (1, 16), (1, 15), (1, 14), (1, 13), (2, 13), (3, 13), (3, 12), (3, 11), (3, 10), (3, 9), (3, 8), (3, 7), (3, 6), (3, 5), (3, 4), (3, 3), (2, 3), (1, 3)]\n"
     ]
    }
   ],
   "source": [
    "def heuristic(node, goal):\n",
    "    return abs(node[0] - goal[0]) + abs(node[1] - goal[1])\n",
    "\n",
    "cost = {\n",
    "    \"hal\": 2,\n",
    "    \"tea\": 3,\n",
    "    \"pro\": 4,\n",
    "    \"lab\": 5,\n",
    "    \"wet\": 20,\n",
    "}\n",
    "\n",
    "def a_star(start, goal):\n",
    "    queue = [(start, [], 0)]\n",
    "    visited = np.zeros_like(plan, dtype=int)\n",
    "\n",
    "    while queue:\n",
    "        node, path, path_cost = queue.pop(0)\n",
    "        visited[node] = 1\n",
    "        if node == goal:\n",
    "            path.append(goal)\n",
    "            return path\n",
    "\n",
    "        possible_moves = [(node[0]+1, node[1]), (node[0]-1, node[1]), (node[0], node[1]+ 1), (node[0], node[1]- 1)]\n",
    "        possible_moves = filter(lambda x: plan[x] != ('wal' or 'out') and visited[x] == 0, possible_moves)\n",
    "        moves = [(move, path + [node], path_cost + cost.get(plan[move], float(\"inf\"))) for move in possible_moves]\n",
    "        queue.extend(moves)\n",
    "        queue = sorted(queue, key=lambda x:heuristic(x[0], goal) + x[2])\n",
    "\n",
    "    '''     while sorted_moves:\n",
    "            best_move = sorted_moves.pop(0)\n",
    "            if plan[best_move] != ('wal' or 'out') and visited[best_move] == 0:\n",
    "                queue.append((best_move, path + [node]))\n",
    "                break'''\n",
    "\n",
    "path = a_star(start, goal)\n",
    "print(path)\n"
   ]
  },
  {
   "cell_type": "markdown",
   "id": "51e14a88-cf54-40a0-b118-05e243e0b995",
   "metadata": {
    "tags": []
   },
   "source": [
    "## Teilaufgabe d): Greedy Best First Search-Algorithmus"
   ]
  },
  {
   "cell_type": "code",
   "execution_count": 5,
   "id": "65263759-2c02-43f0-b756-c8f8ad77b75e",
   "metadata": {
    "ExecuteTime": {
     "end_time": "2023-05-16T06:32:23.950067Z",
     "start_time": "2023-05-16T06:32:23.940863Z"
    }
   },
   "outputs": [
    {
     "name": "stdout",
     "output_type": "stream",
     "text": [
      "[(3, 17), (2, 17), (1, 17), (1, 16), (1, 15), (1, 14), (1, 13), (2, 13), (3, 13), (3, 12), (3, 11), (3, 10), (3, 9), (3, 8), (3, 7), (2, 7), (1, 7), (1, 6), (1, 5), (1, 4), (1, 3)]\n"
     ]
    }
   ],
   "source": [
    "def gbf(start, goal):\n",
    "    queue = [(start, [])]\n",
    "    visited = np.zeros_like(plan, dtype=int)\n",
    "\n",
    "    while queue:\n",
    "        node, path = queue.pop(0)\n",
    "        visited[node] = 1\n",
    "        if node == goal:\n",
    "            path.append(goal)\n",
    "            return path\n",
    "\n",
    "        possible_moves = [(node[0]+1, node[1]), (node[0]-1, node[1]), (node[0], node[1]+ 1), (node[0], node[1]- 1)]\n",
    "        possible_moves = filter(lambda x: plan[x] != ('wal' or 'out') and visited[x] == 0, possible_moves)\n",
    "\n",
    "        queue.extend([(move, path + [node]) for move in possible_moves])\n",
    "        queue = sorted(queue, key=lambda x:heuristic(x[0], goal))\n",
    "\n",
    "path = gbf(start, goal)\n",
    "print(path)\n"
   ]
  },
  {
   "cell_type": "markdown",
   "id": "ba0cffb4-b4dd-4df8-b7d5-f2f98c8a698b",
   "metadata": {
    "tags": []
   },
   "source": [
    "## Teilaufgabe e): Dusseliger Doktorand"
   ]
  },
  {
   "cell_type": "code",
   "execution_count": 6,
   "outputs": [],
   "source": [
    "visualize_path(a_star(start, goal), \"a_star\")\n",
    "plan[3, 3:14] = 'wet'\n",
    "visualize_path(bfs(start, goal), \"bfs\")\n",
    "visualize_path(a_star(start, goal), \"a_star_wet\")\n",
    "visualize_path(gbf(start, goal), \"gbf\")"
   ],
   "metadata": {
    "collapsed": false,
    "ExecuteTime": {
     "end_time": "2023-05-16T06:32:24.409300Z",
     "start_time": "2023-05-16T06:32:23.950757Z"
    }
   }
  }
 ],
 "metadata": {
  "kernelspec": {
   "display_name": "Python 3 (ipykernel)",
   "language": "python",
   "name": "python3"
  },
  "language_info": {
   "codemirror_mode": {
    "name": "ipython",
    "version": 3
   },
   "file_extension": ".py",
   "mimetype": "text/x-python",
   "name": "python",
   "nbconvert_exporter": "python",
   "pygments_lexer": "ipython3",
   "version": "3.10.8"
  }
 },
 "nbformat": 4,
 "nbformat_minor": 5
}
