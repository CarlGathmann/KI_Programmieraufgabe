{
 "cells": [
  {
   "cell_type": "markdown",
   "id": "f0400fe7-1e50-481d-bb7e-62f2c126d4c2",
   "metadata": {},
   "source": [
    "# Aufgabe 2 - Tiefe Einblicke ins Institut"
   ]
  },
  {
   "cell_type": "markdown",
   "id": "e59687f3-c461-4f6e-a898-d023cdc8c67c",
   "metadata": {},
   "source": [
    "Den Code immer nachvollziehbar kommentieren! Bitte beachtet, dass das Notebook von Anfang bis Ende ohne Fehler durchlaufen muss und dass die requirements.txt Datei aktualisiert wird."
   ]
  },
  {
   "cell_type": "markdown",
   "id": "ec5f0020-55eb-4023-a883-90ac6206cfb3",
   "metadata": {},
   "source": [
    "## Teilaufgabe a): Trainings-und Testdatenset\n",
    "## Teilaufgabe b): Verteilung RGB"
   ]
  },
  {
   "cell_type": "code",
   "execution_count": 28,
   "id": "2c91f492-e05c-4a7f-9a1c-8674e2ed71d4",
   "metadata": {
    "ExecuteTime": {
     "end_time": "2023-07-05T13:57:59.652755Z",
     "start_time": "2023-07-05T13:57:59.556856Z"
    }
   },
   "outputs": [
    {
     "data": {
      "text/plain": "\"\\nfig, ax = plt.subplots(2, 2, figsize=(10, 10))\\nax[0, 0].hist(prof_pics.histogram, label='prof', bins=768)\\nax[0, 1].hist(hall_pics.histogram, label='hall', bins=768)\\nax[1, 0].hist(lab_pics.histogram, label='lab', bins=768)\\nax[1, 1].hist(tea_pics.histogram, label='tea', bins=768)\\n\\nax[0, 0].legend()\\nax[0, 1].legend()\\nax[1, 0].legend()\\nax[1, 1].legend()\\n\\nplt.show()\\n\""
     },
     "execution_count": 28,
     "metadata": {},
     "output_type": "execute_result"
    }
   ],
   "source": [
    "from sklearn.model_selection import train_test_split\n",
    "from sklearn.preprocessing import OrdinalEncoder\n",
    "import numpy as np\n",
    "import os\n",
    "import random\n",
    "import matplotlib.pyplot as plt\n",
    "from PIL import Image\n",
    "\n",
    "\n",
    "def thumbnail(img):\n",
    "    img_list = np.asarray(img.resize((30, 30))).reshape(1, 2700)\n",
    "    final_list = np.array([item for sublist in img_list for item in sublist])\n",
    "    return final_list\n",
    "\n",
    "\n",
    "class PicData:\n",
    "    def __init__(self, name):\n",
    "        file_paths = {\n",
    "            'prof': \"Professorenbuero\",\n",
    "            'hall': \"Flur\",\n",
    "            'lab': \"Labor\",\n",
    "            'tea': \"Teekueche\"\n",
    "        }\n",
    "        name_to_label = {\n",
    "            'prof': 1,\n",
    "            'hall': 2,\n",
    "            'lab': 3,\n",
    "            'tea': 4\n",
    "        }\n",
    "        pic_amount = len(os.listdir(f\"Bilder/{file_paths[name]}\"))\n",
    "        self.path = file_paths[name]\n",
    "        self.pics = [Image.open(f\"Bilder/{self.path}/{self.path + str(i + 1)}.jpg\") for i in range(pic_amount)]\n",
    "        self.data = np.array([img.histogram() for img in self.pics])\n",
    "        random.shuffle(self.data)\n",
    "        #self.labels = np.array([name_to_label[name] for _ in range(len(self.data))])\n",
    "        #self.img_train, self.img_test, self.lbl_train, self.lbl_test = train_test_split(self.data, self.labels, test_size=0.2)\n",
    "        self.train = [(self.data[i], name_to_label[name]) for i in range(int(0.8 * len(self.data)))]\n",
    "        self.test  = [(self.data[i], name_to_label[name]) for i in range(int(0.8 * len(self.data)), len(self.data))]\n",
    "\n",
    "prof_pics = PicData('prof')\n",
    "hall_pics = PicData('hall')\n",
    "lab_pics = PicData('lab')\n",
    "tea_pics = PicData('tea')\n",
    "\n",
    "'''print(len(prof_pics.train))\n",
    "print(len(prof_pics.test))\n",
    "print(prof_pics.train[0])\n",
    "print(prof_pics.img_test)\n",
    "print(prof_pics.lbl_train)\n",
    "print(prof_pics.lbl_test)\n",
    "'''\n",
    "\"\"\"\n",
    "fig, ax = plt.subplots(2, 2, figsize=(10, 10))\n",
    "ax[0, 0].hist(prof_pics.histogram, label='prof', bins=768)\n",
    "ax[0, 1].hist(hall_pics.histogram, label='hall', bins=768)\n",
    "ax[1, 0].hist(lab_pics.histogram, label='lab', bins=768)\n",
    "ax[1, 1].hist(tea_pics.histogram, label='tea', bins=768)\n",
    "\n",
    "ax[0, 0].legend()\n",
    "ax[0, 1].legend()\n",
    "ax[1, 0].legend()\n",
    "ax[1, 1].legend()\n",
    "\n",
    "plt.show()\n",
    "\"\"\"\n",
    "\n",
    "\n"
   ]
  },
  {
   "cell_type": "markdown",
   "id": "2bb17fba-193f-4873-a631-7a902bb54675",
   "metadata": {},
   "source": [
    "## Teilaufgabe c): Training und Test mit Random Forest"
   ]
  },
  {
   "cell_type": "markdown",
   "source": [],
   "metadata": {
    "collapsed": false
   }
  },
  {
   "cell_type": "code",
   "execution_count": 134,
   "outputs": [
    {
     "data": {
      "text/plain": "RandomForestClassifier(n_estimators=155)",
      "text/html": "<style>#sk-container-id-7 {color: black;}#sk-container-id-7 pre{padding: 0;}#sk-container-id-7 div.sk-toggleable {background-color: white;}#sk-container-id-7 label.sk-toggleable__label {cursor: pointer;display: block;width: 100%;margin-bottom: 0;padding: 0.3em;box-sizing: border-box;text-align: center;}#sk-container-id-7 label.sk-toggleable__label-arrow:before {content: \"▸\";float: left;margin-right: 0.25em;color: #696969;}#sk-container-id-7 label.sk-toggleable__label-arrow:hover:before {color: black;}#sk-container-id-7 div.sk-estimator:hover label.sk-toggleable__label-arrow:before {color: black;}#sk-container-id-7 div.sk-toggleable__content {max-height: 0;max-width: 0;overflow: hidden;text-align: left;background-color: #f0f8ff;}#sk-container-id-7 div.sk-toggleable__content pre {margin: 0.2em;color: black;border-radius: 0.25em;background-color: #f0f8ff;}#sk-container-id-7 input.sk-toggleable__control:checked~div.sk-toggleable__content {max-height: 200px;max-width: 100%;overflow: auto;}#sk-container-id-7 input.sk-toggleable__control:checked~label.sk-toggleable__label-arrow:before {content: \"▾\";}#sk-container-id-7 div.sk-estimator input.sk-toggleable__control:checked~label.sk-toggleable__label {background-color: #d4ebff;}#sk-container-id-7 div.sk-label input.sk-toggleable__control:checked~label.sk-toggleable__label {background-color: #d4ebff;}#sk-container-id-7 input.sk-hidden--visually {border: 0;clip: rect(1px 1px 1px 1px);clip: rect(1px, 1px, 1px, 1px);height: 1px;margin: -1px;overflow: hidden;padding: 0;position: absolute;width: 1px;}#sk-container-id-7 div.sk-estimator {font-family: monospace;background-color: #f0f8ff;border: 1px dotted black;border-radius: 0.25em;box-sizing: border-box;margin-bottom: 0.5em;}#sk-container-id-7 div.sk-estimator:hover {background-color: #d4ebff;}#sk-container-id-7 div.sk-parallel-item::after {content: \"\";width: 100%;border-bottom: 1px solid gray;flex-grow: 1;}#sk-container-id-7 div.sk-label:hover label.sk-toggleable__label {background-color: #d4ebff;}#sk-container-id-7 div.sk-serial::before {content: \"\";position: absolute;border-left: 1px solid gray;box-sizing: border-box;top: 0;bottom: 0;left: 50%;z-index: 0;}#sk-container-id-7 div.sk-serial {display: flex;flex-direction: column;align-items: center;background-color: white;padding-right: 0.2em;padding-left: 0.2em;position: relative;}#sk-container-id-7 div.sk-item {position: relative;z-index: 1;}#sk-container-id-7 div.sk-parallel {display: flex;align-items: stretch;justify-content: center;background-color: white;position: relative;}#sk-container-id-7 div.sk-item::before, #sk-container-id-7 div.sk-parallel-item::before {content: \"\";position: absolute;border-left: 1px solid gray;box-sizing: border-box;top: 0;bottom: 0;left: 50%;z-index: -1;}#sk-container-id-7 div.sk-parallel-item {display: flex;flex-direction: column;z-index: 1;position: relative;background-color: white;}#sk-container-id-7 div.sk-parallel-item:first-child::after {align-self: flex-end;width: 50%;}#sk-container-id-7 div.sk-parallel-item:last-child::after {align-self: flex-start;width: 50%;}#sk-container-id-7 div.sk-parallel-item:only-child::after {width: 0;}#sk-container-id-7 div.sk-dashed-wrapped {border: 1px dashed gray;margin: 0 0.4em 0.5em 0.4em;box-sizing: border-box;padding-bottom: 0.4em;background-color: white;}#sk-container-id-7 div.sk-label label {font-family: monospace;font-weight: bold;display: inline-block;line-height: 1.2em;}#sk-container-id-7 div.sk-label-container {text-align: center;}#sk-container-id-7 div.sk-container {/* jupyter's `normalize.less` sets `[hidden] { display: none; }` but bootstrap.min.css set `[hidden] { display: none !important; }` so we also need the `!important` here to be able to override the default hidden behavior on the sphinx rendered scikit-learn.org. See: https://github.com/scikit-learn/scikit-learn/issues/21755 */display: inline-block !important;position: relative;}#sk-container-id-7 div.sk-text-repr-fallback {display: none;}</style><div id=\"sk-container-id-7\" class=\"sk-top-container\"><div class=\"sk-text-repr-fallback\"><pre>RandomForestClassifier(n_estimators=155)</pre><b>In a Jupyter environment, please rerun this cell to show the HTML representation or trust the notebook. <br />On GitHub, the HTML representation is unable to render, please try loading this page with nbviewer.org.</b></div><div class=\"sk-container\" hidden><div class=\"sk-item\"><div class=\"sk-estimator sk-toggleable\"><input class=\"sk-toggleable__control sk-hidden--visually\" id=\"sk-estimator-id-11\" type=\"checkbox\" checked><label for=\"sk-estimator-id-11\" class=\"sk-toggleable__label sk-toggleable__label-arrow\">RandomForestClassifier</label><div class=\"sk-toggleable__content\"><pre>RandomForestClassifier(n_estimators=155)</pre></div></div></div></div></div>"
     },
     "execution_count": 134,
     "metadata": {},
     "output_type": "execute_result"
    }
   ],
   "source": [
    "from sklearn.metrics import r2_score\n",
    "from sklearn.ensemble import RandomForestClassifier\n",
    "\n",
    "complete_train = list(prof_pics.train) + list(hall_pics.train) + list(lab_pics.train) + list(tea_pics.train)\n",
    "complete_test = list(prof_pics.test) + list(hall_pics.test) + list(lab_pics.test) + list(tea_pics.test)\n",
    "random.shuffle(complete_train)\n",
    "random.shuffle(complete_test)\n",
    "\n",
    "\n",
    "X_train = [item[0] for item in complete_train]\n",
    "y_train = [item[1] for item in complete_train]\n",
    "X_test = [item[0] for item in complete_test]\n",
    "y_test = [item[1] for item in complete_test]\n",
    "\n",
    "rf = RandomForestClassifier(n_estimators=155)\n",
    "rf.fit(X_train, y_train)\n",
    "\n",
    "#print(r2_score(y_train, rf.predict(X_train)))\n",
    "\n",
    "#complete_image_list = list(prof_pics.img_train) + list(hall_pics.img_train) + list(lab_pics.img_train) + #list(tea_pics.img_train)\n",
    "#complete_label_list = list(prof_pics.lbl_train) + list(hall_pics.lbl_train) + list(lab_pics.lbl_train) + list(tea_pics.lbl_train)\n",
    "#rf.fit(complete_image_list, complete_label_list)\n"
   ],
   "metadata": {
    "collapsed": false,
    "ExecuteTime": {
     "end_time": "2023-07-05T13:40:59.714655Z",
     "start_time": "2023-07-05T13:40:59.702663Z"
    }
   }
  },
  {
   "cell_type": "code",
   "execution_count": 144,
   "outputs": [
    {
     "name": "stdout",
     "output_type": "stream",
     "text": [
      "Predictions:  [1 2 4 1 3 4 2 3 4 1 2 2 4 1 3 1 4 3 2 3]\n",
      "Expected:  [1, 2, 2, 1, 3, 4, 2, 3, 4, 1, 2, 1, 3, 4, 3, 1, 4, 3, 2, 4]\n",
      "Accuracy: 75.0 %\n",
      "F1 Score: 0.75\n",
      "Recall: 0.75\n",
      "Precision: 0.75\n",
      "Confusion matrix: \n"
     ]
    },
    {
     "data": {
      "text/plain": "<Figure size 640x480 with 2 Axes>",
      "image/png": "[encoded data removed]"
     },
     "metadata": {},
     "output_type": "display_data"
    }
   ],
   "source": [
    "def score (y_expect, y_pred):\n",
    "    from sklearn.metrics import confusion_matrix, ConfusionMatrixDisplay, recall_score, f1_score, precision_score\n",
    "\n",
    "    errors = 0;\n",
    "    for i in range(len(y_pred)):\n",
    "        if y_pred[i] != y_expect[i]:\n",
    "            errors += 1\n",
    "\n",
    "    conf_matrix = confusion_matrix(y_expect, y_pred)\n",
    "    ConfusionMatrixDisplay.from_predictions(y_expect, y_pred)\n",
    "    accuracy = (len(y_expect)-errors)/len(y_expect) * 100\n",
    "\n",
    "    print('Predictions: ', str(y_pred))\n",
    "    print('Expected: ', str(y_expect))\n",
    "    #print('Mean Absolute Error:', str(round(np.mean(errors), 2)) + '°')\n",
    "    print('Accuracy:', round(accuracy, 2), '%')\n",
    "    print(\"F1 Score:\", f1_score(y_expect, y_pred, average='micro'))\n",
    "    print(\"Recall:\", recall_score(y_expect, y_pred, average='micro'))\n",
    "    print(\"Precision:\", precision_score(y_expect, y_pred, average='micro'))\n",
    "    print('Confusion matrix: ')#str(conf_matrix))\n",
    "\n",
    "    plt.show()\n",
    "\n",
    "# for one room only\n",
    "# test_list = tea_pics.test\n",
    "# test_data = [item[0] for item in test_list]\n",
    "# test_lbl = [item[1] for item in test_list]\n",
    "# y_pred = rf.predict(test_data)\n",
    "# score(test_lbl, y_pred)\n",
    "\n",
    "y_pred = rf.predict(X_test)\n",
    "score(y_test, y_pred)"
   ],
   "metadata": {
    "collapsed": false,
    "ExecuteTime": {
     "end_time": "2023-07-05T13:41:23.931547Z",
     "start_time": "2023-07-05T13:41:23.928766Z"
    }
   }
  },
  {
   "cell_type": "markdown",
   "id": "51e14a88-cf54-40a0-b118-05e243e0b995",
   "metadata": {
    "tags": []
   },
   "source": [
    "## Teilaufgabe d): Hyperparameteroptimierung"
   ]
  },
  {
   "cell_type": "code",
   "execution_count": 143,
   "id": "65263759-2c02-43f0-b756-c8f8ad77b75e",
   "metadata": {},
   "outputs": [
    {
     "name": "stdout",
     "output_type": "stream",
     "text": [
      "Best Params:  {'max_depth': 80}\n",
      "Scores of the new forest:\n",
      "Predictions:  [1 2 4 1 3 4 2 3 4 1 2 2 4 1 3 1 4 3 2 3]\n",
      "Expected:  [1, 2, 2, 1, 3, 4, 2, 3, 4, 1, 2, 1, 3, 4, 3, 1, 4, 3, 2, 4]\n",
      "Accuracy: 75.0 %\n",
      "F1 Score: 0.75\n",
      "Recall: 0.75\n",
      "Precision: 0.75\n",
      "Confusion matrix:  [[4 1 0 0]\n",
      " [0 4 0 1]\n",
      " [0 0 4 1]\n",
      " [1 0 1 3]]\n"
     ]
    },
    {
     "data": {
      "text/plain": "<Figure size 640x480 with 2 Axes>",
      "image/png": "[encoded data removed]"
     },
     "metadata": {},
     "output_type": "display_data"
    }
   ],
   "source": [
    "from sklearn.model_selection import GridSearchCV\n",
    "\n",
    "param_grid = {#'n_estimators': [10, 55, 100, 155],\n",
    "              'max_depth': [60, 80, None],\n",
    "              #'max_features': ['sqrt', 'log2', None],\n",
    "              #'min_samples_leaf': [1, 3, 5]\n",
    "              #'min_samples_split': [2, 3, 4]\n",
    "              }\n",
    "rf = RandomForestClassifier()\n",
    "grid_search = GridSearchCV(estimator = rf, param_grid = param_grid, cv = 5, scoring='r2') # verbose =2,  n_jobs = -1\n",
    "grid_search.fit(X_train, y_train)\n",
    "print(\"Best Params: \", grid_search.best_params_) # differs every run, but 80 seems to be the best\n",
    "\n",
    "print(\"Scores of the new forest:\")\n",
    "rf = RandomForestClassifier(max_depth = grid_search.best_params_[\"max_depth\"])\n",
    "rf.fit(X_train, y_train)\n",
    "score(y_test, rf.predict(X_test))\n"
   ]
  },
  {
   "cell_type": "markdown",
   "id": "ba0cffb4-b4dd-4df8-b7d5-f2f98c8a698b",
   "metadata": {
    "tags": []
   },
   "source": [
    "## Teilaufgabe e): Dimensionalitätsreduktion"
   ]
  },
  {
   "cell_type": "code",
   "execution_count": 148,
   "id": "4a72c1da-07de-4252-a4a9-b373918b1cf2",
   "metadata": {},
   "outputs": [
    {
     "name": "stdout",
     "output_type": "stream",
     "text": [
      "[[-1764.14941061 -1556.6865134 ]\n",
      " [ -532.65706474  2253.05838648]\n",
      " [-2580.9045694  -2371.24941002]\n",
      " [ -634.16256906  -708.29067182]\n",
      " [ -531.39080996  -396.21279354]\n",
      " [-1428.44155922  -810.33708914]\n",
      " [-3095.59678006    41.84552663]\n",
      " [ 4415.71517019 -2376.93120062]\n",
      " [-1764.14941061 -1556.6865134 ]\n",
      " [-2136.86041919  -212.22230126]\n",
      " [-1153.84262551 -2061.05349855]\n",
      " [ -310.77735551  2974.7189285 ]\n",
      " [ 4415.71517019 -2376.93120062]\n",
      " [  773.2755069   2881.04904689]\n",
      " [  372.3133874    138.3185963 ]\n",
      " [  977.75771028  -776.5180464 ]\n",
      " [ -310.77735551  2974.7189285 ]\n",
      " [ 2292.68053221   451.58899742]\n",
      " [-2227.32310303 -1869.18819016]\n",
      " [-2136.86041919  -212.22230126]\n",
      " [ 1630.34674324 -2494.35218435]\n",
      " [ 1589.27016512   634.17190611]\n",
      " [ 4750.70651941 -2718.23652565]\n",
      " [  914.38095325   548.63376142]\n",
      " [-2225.42666988 -2017.18155555]\n",
      " [ -247.51094536   355.62956042]\n",
      " [-2054.16939439 -2567.5070066 ]\n",
      " [-1878.57495853  -954.41285501]\n",
      " [-1582.16455659  -451.25210399]\n",
      " [-1764.14941061 -1556.6865134 ]\n",
      " [ -441.60572382  2905.73993515]\n",
      " [  773.2755069   2881.04904689]\n",
      " [-3095.59678006    41.84552663]\n",
      " [ 2292.68053221   451.58899742]\n",
      " [-2780.06629381 -1445.2096775 ]\n",
      " [ 4415.71517019 -2376.93120062]\n",
      " [  773.2755069   2881.04904689]\n",
      " [-1552.55099929  -830.31997704]\n",
      " [  -40.93938432   472.55304216]\n",
      " [ -310.77735551  2974.7189285 ]\n",
      " [-1225.67303604 -1083.03196019]\n",
      " [ 3636.14634665  1099.26965145]\n",
      " [-1582.16455659  -451.25210399]\n",
      " [  852.58334948  3500.53716577]\n",
      " [ -441.60572382  2905.73993515]\n",
      " [ -310.77735551  2974.7189285 ]\n",
      " [  914.38095325   548.63376142]\n",
      " [  773.2755069   2881.04904689]\n",
      " [-2227.32310303 -1869.18819016]\n",
      " [ 3636.14634665  1099.26965145]\n",
      " [  792.3855624   -437.69650992]\n",
      " [-1067.4820867    105.30527245]\n",
      " [ -103.89500307  2909.92284328]\n",
      " [  -40.93938432   472.55304216]\n",
      " [ -247.51094536   355.62956042]\n",
      " [  372.3133874    138.3185963 ]\n",
      " [-1552.55099929  -830.31997704]\n",
      " [ -247.51094536   355.62956042]\n",
      " [  914.38095325   548.63376142]\n",
      " [ 4415.71517019 -2376.93120062]\n",
      " [-1104.53259168  2784.56231576]\n",
      " [ 1589.27016512   634.17190611]\n",
      " [-2225.42666988 -2017.18155555]\n",
      " [-2580.9045694  -2371.24941002]\n",
      " [ 1076.33690603  1544.19973857]\n",
      " [-1153.84262551 -2061.05349855]\n",
      " [ 4415.71517019 -2376.93120062]\n",
      " [-3095.59678006    41.84552663]\n",
      " [ -532.65706474  2253.05838648]\n",
      " [-1428.44155922  -810.33708914]\n",
      " [-1552.55099929  -830.31997704]\n",
      " [  165.6590423   -981.89094534]\n",
      " [ -532.65706474  2253.05838648]\n",
      " [ 1589.27016512   634.17190611]\n",
      " [ 1408.22605855   -37.6112705 ]\n",
      " [ -532.65706474  2253.05838648]\n",
      " [-1552.55099929  -830.31997704]\n",
      " [-1428.44155922  -810.33708914]\n",
      " [ 1558.14017639  -130.20471705]\n",
      " [ 2292.68053221   451.58899742]\n",
      " [-1108.63587801  1097.27148311]\n",
      " [-1104.53259168  2784.56231576]\n",
      " [-2246.19802257 -2321.93899159]\n",
      " [-2780.06629381 -1445.2096775 ]\n",
      " [  372.3133874    138.3185963 ]\n",
      " [  -82.14136137  -543.97066357]\n",
      " [-1104.53259168  2784.56231576]\n",
      " [  372.3133874    138.3185963 ]\n",
      " [ -634.16256906  -708.29067182]\n",
      " [  -40.93938432   472.55304216]\n",
      " [ -441.60572382  2905.73993515]\n",
      " [ -452.55671884  -234.76618952]\n",
      " [ 7060.02197021   -10.57449379]\n",
      " [ -286.7634521  -1144.18347322]\n",
      " [ 4466.32722466 -1457.14100078]\n",
      " [-1552.55099929  -830.31997704]\n",
      " [-2605.74311946 -1407.74589363]\n",
      " [ 2407.58432262 -2395.13246748]\n",
      " [  792.3855624   -437.69650992]\n",
      " [ 3528.86709551  -989.08476224]]\n"
     ]
    }
   ],
   "source": [
    "from sklearn.decomposition import PCA\n",
    "\n",
    "pca = PCA(n_components=2)\n",
    "pca.fit(X_train + X_test)\n",
    "X = pca.transform(X_train + X_test)\n",
    "print(X)"
   ]
  }
 ],
 "metadata": {
  "kernelspec": {
   "display_name": "Python 3 (ipykernel)",
   "language": "python",
   "name": "python3"
  },
  "language_info": {
   "codemirror_mode": {
    "name": "ipython",
    "version": 3
   },
   "file_extension": ".py",
   "mimetype": "text/x-python",
   "name": "python",
   "nbconvert_exporter": "python",
   "pygments_lexer": "ipython3",
   "version": "3.10.8"
  }
 },
 "nbformat": 4,
 "nbformat_minor": 5
}
