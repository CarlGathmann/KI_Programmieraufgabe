{
 "cells": [
  {
   "cell_type": "markdown",
   "id": "f0400fe7-1e50-481d-bb7e-62f2c126d4c2",
   "metadata": {},
   "source": [
    "# Aufgabe 2 - Tiefe Einblicke ins Institut"
   ]
  },
  {
   "cell_type": "markdown",
   "id": "e59687f3-c461-4f6e-a898-d023cdc8c67c",
   "metadata": {},
   "source": [
    "Den Code immer nachvollziehbar kommentieren! Bitte beachtet, dass das Notebook von Anfang bis Ende ohne Fehler durchlaufen muss und dass die requirements.txt Datei aktualisiert wird."
   ]
  },
  {
   "cell_type": "markdown",
   "id": "ec5f0020-55eb-4023-a883-90ac6206cfb3",
   "metadata": {},
   "source": [
    "## Teilaufgabe a): Trainings-und Testdatenset\n",
    "## Teilaufgabe b): Verteilung RGB"
   ]
  },
  {
   "cell_type": "code",
   "execution_count": 28,
   "id": "2c91f492-e05c-4a7f-9a1c-8674e2ed71d4",
   "metadata": {
    "ExecuteTime": {
     "end_time": "2023-07-05T13:57:59.652755Z",
     "start_time": "2023-07-05T13:57:59.556856Z"
    }
   },
   "outputs": [
    {
     "data": {
      "text/plain": "\"\\nfig, ax = plt.subplots(2, 2, figsize=(10, 10))\\nax[0, 0].hist(prof_pics.histogram, label='prof', bins=768)\\nax[0, 1].hist(hall_pics.histogram, label='hall', bins=768)\\nax[1, 0].hist(lab_pics.histogram, label='lab', bins=768)\\nax[1, 1].hist(tea_pics.histogram, label='tea', bins=768)\\n\\nax[0, 0].legend()\\nax[0, 1].legend()\\nax[1, 0].legend()\\nax[1, 1].legend()\\n\\nplt.show()\\n\""
     },
     "execution_count": 28,
     "metadata": {},
     "output_type": "execute_result"
    }
   ],
   "source": [
    "from sklearn.model_selection import train_test_split\n",
    "from sklearn.preprocessing import OrdinalEncoder\n",
    "import numpy as np\n",
    "import os\n",
    "import random\n",
    "import matplotlib.pyplot as plt\n",
    "from PIL import Image\n",
    "\n",
    "\n",
    "def thumbnail(img):\n",
    "    img_list = np.asarray(img.resize((30, 30))).reshape(1, 2700)\n",
    "    final_list = np.array([item for sublist in img_list for item in sublist])\n",
    "    return final_list\n",
    "\n",
    "\n",
    "class PicData:\n",
    "    def __init__(self, name):\n",
    "        file_paths = {\n",
    "            'prof': \"Professorenbuero\",\n",
    "            'hall': \"Flur\",\n",
    "            'lab': \"Labor\",\n",
    "            'tea': \"Teekueche\"\n",
    "        }\n",
    "        name_to_label = {\n",
    "            'prof': 1,\n",
    "            'hall': 2,\n",
    "            'lab': 3,\n",
    "            'tea': 4\n",
    "        }\n",
    "        pic_amount = len(os.listdir(f\"Bilder/{file_paths[name]}\"))\n",
    "        self.path = file_paths[name]\n",
    "        self.pics = [Image.open(f\"Bilder/{self.path}/{self.path + str(i + 1)}.jpg\") for i in range(pic_amount)]\n",
    "        self.data = np.array([img.histogram() for img in self.pics])\n",
    "        random.shuffle(self.data)\n",
    "        #self.labels = np.array([name_to_label[name] for _ in range(len(self.data))])\n",
    "        #self.img_train, self.img_test, self.lbl_train, self.lbl_test = train_test_split(self.data, self.labels, test_size=0.2)\n",
    "        self.train = [(self.data[i], name_to_label[name]) for i in range(int(0.8 * len(self.data)))]\n",
    "        self.test  = [(self.data[i], name_to_label[name]) for i in range(int(0.8 * len(self.data)), len(self.data))]\n",
    "\n",
    "prof_pics = PicData('prof')\n",
    "hall_pics = PicData('hall')\n",
    "lab_pics = PicData('lab')\n",
    "tea_pics = PicData('tea')\n",
    "\n",
    "'''print(len(prof_pics.train))\n",
    "print(len(prof_pics.test))\n",
    "print(prof_pics.train[0])\n",
    "print(prof_pics.img_test)\n",
    "print(prof_pics.lbl_train)\n",
    "print(prof_pics.lbl_test)\n",
    "'''\n",
    "\"\"\"\n",
    "fig, ax = plt.subplots(2, 2, figsize=(10, 10))\n",
    "ax[0, 0].hist(prof_pics.histogram, label='prof', bins=768)\n",
    "ax[0, 1].hist(hall_pics.histogram, label='hall', bins=768)\n",
    "ax[1, 0].hist(lab_pics.histogram, label='lab', bins=768)\n",
    "ax[1, 1].hist(tea_pics.histogram, label='tea', bins=768)\n",
    "\n",
    "ax[0, 0].legend()\n",
    "ax[0, 1].legend()\n",
    "ax[1, 0].legend()\n",
    "ax[1, 1].legend()\n",
    "\n",
    "plt.show()\n",
    "\"\"\"\n",
    "\n",
    "\n"
   ]
  },
  {
   "cell_type": "markdown",
   "id": "2bb17fba-193f-4873-a631-7a902bb54675",
   "metadata": {},
   "source": [
    "## Teilaufgabe c): Training und Test mit Random Forest"
   ]
  },
  {
   "cell_type": "markdown",
   "source": [],
   "metadata": {
    "collapsed": false
   }
  },
  {
   "cell_type": "code",
   "execution_count": 29,
   "outputs": [],
   "source": [
    "from sklearn.metrics import r2_score\n",
    "from sklearn.ensemble import RandomForestClassifier\n",
    "\n",
    "complete_train = list(prof_pics.train) + list(hall_pics.train) + list(lab_pics.train) + list(tea_pics.train)\n",
    "complete_test = list(prof_pics.test) + list(hall_pics.test) + list(lab_pics.test) + list(tea_pics.test)\n",
    "random.shuffle(complete_train)\n",
    "random.shuffle(complete_test)\n",
    "\n",
    "\n",
    "X_train = [item[0] for item in complete_train]\n",
    "y_train = [item[1] for item in complete_train]\n",
    "X_test = [item[0] for item in complete_test]\n",
    "y_test = [item[1] for item in complete_test]\n",
    "\n",
    "rf = RandomForestClassifier(n_estimators=300)\n",
    "rf.fit(X_train, y_train)\n",
    "\n",
    "y_pred_train = rf.predict(X_train)\n",
    "#print(r2_score(y_train, y_pred_train))\n",
    "\n",
    "#complete_image_list = list(prof_pics.img_train) + list(hall_pics.img_train) + list(lab_pics.img_train) + #list(tea_pics.img_train)\n",
    "#complete_label_list = list(prof_pics.lbl_train) + list(hall_pics.lbl_train) + list(lab_pics.lbl_train) + list(tea_pics.lbl_train)\n",
    "#rf.fit(complete_image_list, complete_label_list)\n"
   ],
   "metadata": {
    "collapsed": false,
    "ExecuteTime": {
     "end_time": "2023-07-05T13:40:59.714655Z",
     "start_time": "2023-07-05T13:40:59.702663Z"
    }
   }
  },
  {
   "cell_type": "code",
   "execution_count": 32,
   "outputs": [
    {
     "name": "stdout",
     "output_type": "stream",
     "text": [
      "Predictions:  [1 2 1 1 2]\n",
      "Forest output:  [1, 1, 1, 1, 1]\n",
      "Mean Absolute Error: 0.4°.\n",
      "Score: 0.6\n",
      "Accuracy: 60.0 %.\n",
      "Confusion matrix:  [[3 2]\n",
      " [0 0]]\n"
     ]
    },
    {
     "data": {
      "text/plain": "<Figure size 640x480 with 2 Axes>",
      "image/png": "[encoded data removed]"
     },
     "metadata": {},
     "output_type": "display_data"
    }
   ],
   "source": [
    "from sklearn.metrics import confusion_matrix, ConfusionMatrixDisplay\n",
    "\n",
    "current_test_list = tea_pics.test\n",
    "current_test_data = [item[0] for item in current_test_list]\n",
    "current_test_lbl = [item[1] for item in current_test_list]\n",
    "\n",
    "y_pred = rf.predict(current_test_data)\n",
    "errors = abs(y_pred - current_test_lbl)\n",
    "conf_matrix = confusion_matrix(current_test_lbl, y_pred)\n",
    "ConfusionMatrixDisplay.from_predictions(current_test_lbl, y_pred)\n",
    "mape = 100 * (errors / current_test_lbl)\n",
    "accuracy = 100 - np.mean(mape)\n",
    "errors = abs(y_pred - current_test_lbl)\n",
    "print('Predictions: ', str(y_pred))\n",
    "print('Forest output: ', str(current_test_lbl))\n",
    "#print(r2_score(current_test_lbl, y_pred))\n",
    "print('Mean Absolute Error:', str(round(np.mean(errors), 2)) + '°.')\n",
    "print(\"Score:\", rf.score(current_test_data, current_test_lbl))\n",
    "print('Accuracy:', round(accuracy, 2), '%.')\n",
    "print('Confusion matrix: ', str(conf_matrix))\n",
    "plt.show()"
   ],
   "metadata": {
    "collapsed": false,
    "ExecuteTime": {
     "end_time": "2023-07-05T13:41:23.931547Z",
     "start_time": "2023-07-05T13:41:23.928766Z"
    }
   }
  },
  {
   "cell_type": "markdown",
   "id": "51e14a88-cf54-40a0-b118-05e243e0b995",
   "metadata": {
    "tags": []
   },
   "source": [
    "## Teilaufgabe d): Hyperparameteroptimierung"
   ]
  },
  {
   "cell_type": "code",
   "execution_count": null,
   "id": "65263759-2c02-43f0-b756-c8f8ad77b75e",
   "metadata": {},
   "outputs": [],
   "source": []
  },
  {
   "cell_type": "markdown",
   "id": "ba0cffb4-b4dd-4df8-b7d5-f2f98c8a698b",
   "metadata": {
    "tags": []
   },
   "source": [
    "## Teilaufgabe e): Dimensionalitätsreduktion"
   ]
  },
  {
   "cell_type": "code",
   "execution_count": null,
   "id": "4a72c1da-07de-4252-a4a9-b373918b1cf2",
   "metadata": {},
   "outputs": [],
   "source": []
  }
 ],
 "metadata": {
  "kernelspec": {
   "display_name": "Python 3 (ipykernel)",
   "language": "python",
   "name": "python3"
  },
  "language_info": {
   "codemirror_mode": {
    "name": "ipython",
    "version": 3
   },
   "file_extension": ".py",
   "mimetype": "text/x-python",
   "name": "python",
   "nbconvert_exporter": "python",
   "pygments_lexer": "ipython3",
   "version": "3.10.8"
  }
 },
 "nbformat": 4,
 "nbformat_minor": 5
}
