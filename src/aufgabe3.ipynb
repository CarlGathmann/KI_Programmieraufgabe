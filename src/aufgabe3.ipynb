{
 "cells": [
  {
   "cell_type": "markdown",
   "id": "f0400fe7-1e50-481d-bb7e-62f2c126d4c2",
   "metadata": {
    "id": "f0400fe7-1e50-481d-bb7e-62f2c126d4c2"
   },
   "source": [
    "\n",
    "# Aufgabe 3 - Tiefe Einblicke ins Institut: Reloaded"
   ]
  },
  {
   "cell_type": "markdown",
   "id": "e59687f3-c461-4f6e-a898-d023cdc8c67c",
   "metadata": {
    "id": "e59687f3-c461-4f6e-a898-d023cdc8c67c"
   },
   "source": [
    "Den Code immer nachvollziehbar kommentieren! Bitte beachtet, dass das Notebook von Anfang bis Ende ohne Fehler durchlaufen muss und dass die requirements.txt Datei aktualisiert wird."
   ]
  },
  {
   "cell_type": "code",
   "execution_count": null,
   "id": "48e97f2a-c3df-4121-8b13-eb35a1e77435",
   "metadata": {
    "id": "48e97f2a-c3df-4121-8b13-eb35a1e77435",
    "ExecuteTime": {
     "end_time": "2023-07-24T20:17:08.201247Z",
     "start_time": "2023-07-24T20:17:06.837118Z"
    }
   },
   "outputs": [],
   "source": [
    "import os\n",
    "import random\n",
    "\n",
    "import torch\n",
    "import torch.nn as nn\n",
    "import torch.nn.functional as F\n",
    "import torchvision.transforms as T\n",
    "import torch.optim as optim\n",
    "from torchvision.io import read_image\n",
    "from torch.utils.data import DataLoader\n",
    "from torch.utils.data import Dataset\n",
    "\n",
    "import numpy as np\n",
    "import matplotlib.pyplot as plt"
   ]
  },
  {
   "cell_type": "code",
   "source": [
    "colab = False\n",
    "directory = \"Bilder\"\n",
    "# connect to google drive when using google colab for gpu\n",
    "if colab:\n",
    "    from google.colab import drive\n",
    "    drive.mount('/content/drive')\n",
    "    directory = \"/content/drive/MyDrive/Colab Notebooks/Bilder\""
   ],
   "metadata": {
    "colab": {
     "base_uri": "https://localhost:8080/"
    },
    "id": "Mh1-dSM38AkY",
    "outputId": "5c5484f6-72f9-4427-b89e-30ce3b316d9d",
    "ExecuteTime": {
     "end_time": "2023-07-24T20:17:08.211252Z",
     "start_time": "2023-07-24T20:17:08.202542Z"
    }
   },
   "id": "Mh1-dSM38AkY",
   "execution_count": null,
   "outputs": []
  },
  {
   "cell_type": "markdown",
   "id": "ec5f0020-55eb-4023-a883-90ac6206cfb3",
   "metadata": {
    "id": "ec5f0020-55eb-4023-a883-90ac6206cfb3"
   },
   "source": [
    "## Teilaufgabe a): Trainings-, Test-und Validierungsdatenset"
   ]
  },
  {
   "cell_type": "code",
   "execution_count": null,
   "id": "2c91f492-e05c-4a7f-9a1c-8674e2ed71d4",
   "metadata": {
    "id": "2c91f492-e05c-4a7f-9a1c-8674e2ed71d4"
   },
   "outputs": [],
   "source": [
    "training_list = []\n",
    "test_list = []\n",
    "validation_list = []\n",
    "\n",
    "# map the room/path names to an integer for integer classification\n",
    "name_to_label = {\n",
    "            'Professorenbuero': 0,\n",
    "            'Flur': 1,\n",
    "            'Labor': 2,\n",
    "            'Teekueche': 3\n",
    "        }\n",
    "# load the images for each path, split and add them to the trainings, test and validation list\n",
    "for path_name in name_to_label.keys():\n",
    "    pic_amount = 25 #len(os.listdir(f\"Bilder/{file_paths[name]}\"))\n",
    "    tmp_paths = [(f\"{directory}/{path_name}/{path_name + str(i + 1)}.jpg\", name_to_label[path_name])for i in range(pic_amount)] # (Tensor,lbl) list\n",
    "    random.shuffle(tmp_paths)\n",
    "\n",
    "    training_list += tmp_paths[:int(0.7 * pic_amount)]\n",
    "    validation_list += tmp_paths[int(0.7 * pic_amount):int(0.8 * pic_amount)] # 3 pics each\n",
    "    test_list += tmp_paths[int(0.8 * pic_amount):]\n",
    "\n",
    "random.shuffle(training_list)\n",
    "random.shuffle(test_list)\n",
    "random.shuffle(validation_list)\n",
    "\n",
    "# split the shuffled tupel lists into X and y: [\"./pfad/zu/bildZ.png\",\"./pfad/zu/bildY.png\",...], [1,1,1,2,2,2,...]\n",
    "training_path_list, y_train = [tup[0] for tup in training_list], [tup[1] for tup in training_list]\n",
    "test_path_list, y_test = [tup[0] for tup in test_list], [tup[1] for tup in test_list]\n",
    "validation_path_list, y_val = [tup[0] for tup in validation_list], [tup[1] for tup in validation_list]"
   ]
  },
  {
   "cell_type": "markdown",
   "id": "b16c6c68-033e-4d57-ba02-fc86c53f34f1",
   "metadata": {
    "id": "b16c6c68-033e-4d57-ba02-fc86c53f34f1"
   },
   "source": [
    "## Teilaufgabe b): CNN definieren und implementieren"
   ]
  },
  {
   "cell_type": "code",
   "execution_count": null,
   "id": "3f484794-3ab2-4edf-84e4-8debf29b1d57",
   "metadata": {
    "id": "3f484794-3ab2-4edf-84e4-8debf29b1d57"
   },
   "outputs": [],
   "source": [
    "class NetComplex(nn.Module):\n",
    "    def __init__(self):\n",
    "        super().__init__()\n",
    "        # cite\n",
    "        self.conv1 = nn.Conv2d(3, 16, kernel_size=3)\n",
    "        self.conv2 = nn.Conv2d(16, 32, kernel_size=3)\n",
    "        self.conv3 = nn.Conv2d(32, 64, kernel_size=3)\n",
    "        self.bn1 = nn.BatchNorm2d(16)\n",
    "        self.bn2 = nn.BatchNorm2d(32)\n",
    "        self.bn3 = nn.BatchNorm2d(64)\n",
    "        self.pool = nn.MaxPool2d(2, 2)\n",
    "        #self.fc1 = nn.Linear(43264, 256)\n",
    "        self.fc1 = nn.Linear(43264, 16)\n",
    "        #self.fc2 = nn.Linear(256, 16)\n",
    "        self.fc3 = nn.Linear(16, 4)\n",
    "\n",
    "    def forward(self, x):\n",
    "        #layer 1\n",
    "        x = self.pool(F.relu(self.conv1(x)))\n",
    "        x = self.bn1(x)\n",
    "        #layer 2\n",
    "        x = self.pool(F.relu(self.conv2(x)))\n",
    "        x = self.bn2(x)\n",
    "        # layer 3\n",
    "        x = self.pool(F.relu(self.conv3(x)))\n",
    "        x = self.bn3(x)\n",
    "        # flatten\n",
    "        x = torch.flatten(x, 1)\n",
    "        # dense layers\n",
    "        x = F.relu(self.fc1(x))\n",
    "        #x = F.relu(self.fc2(x))\n",
    "        x = self.fc3(x)\n",
    "\n",
    "        return x"
   ]
  },
  {
   "cell_type": "code",
   "source": [
    "class NetComplexP(nn.Module):\n",
    "    def __init__(self):\n",
    "        super().__init__()\n",
    "        # cite\n",
    "        self.conv1 = nn.Conv2d(3, 16, kernel_size=3)\n",
    "        self.conv2 = nn.Conv2d(16, 32, kernel_size=3)\n",
    "        self.conv3 = nn.Conv2d(32, 64, kernel_size=3)\n",
    "        self.conv4 = nn.Conv2d(64, 128, kernel_size=3)\n",
    "        self.pool = nn.MaxPool2d(2, 2)\n",
    "        self.fc1 = nn.Linear(18432, 256)\n",
    "        self.fc2 = nn.Linear(256, 128)\n",
    "        self.fc3 = nn.Linear(128, 4)\n",
    "        self.dropout = nn.Dropout(0.2)\n",
    "\n",
    "    def forward(self, x):\n",
    "\n",
    "        #layer 1\n",
    "        x = self.dropout(self.pool(F.relu(self.conv1(x))))\n",
    "        #layer 2\n",
    "        x = self.dropout(self.pool(F.relu(self.conv2(x))))\n",
    "        # layer 3\n",
    "        x = self.dropout(self.pool(F.relu(self.conv3(x))))\n",
    "        # layer 4\n",
    "        x = self.dropout(self.pool(F.relu(self.conv4(x))))\n",
    "        # flatten\n",
    "        x = torch.flatten(x, 1)\n",
    "        # dense layers\n",
    "        x = F.relu(self.fc1(x))\n",
    "        x = self.dropout(x)\n",
    "        x = F.relu(self.fc2(x))\n",
    "        x = self.fc3(x)\n",
    "\n",
    "        return x"
   ],
   "metadata": {
    "id": "ymBj1W3-hC_y"
   },
   "id": "ymBj1W3-hC_y",
   "execution_count": null,
   "outputs": []
  },
  {
   "cell_type": "code",
   "execution_count": null,
   "outputs": [],
   "source": [
    "class Net(nn.Module):\n",
    "    def __init__(self):\n",
    "        super().__init__()\n",
    "        self.conv = nn.Conv2d(3, 16, 4)\n",
    "        self.pool = nn.MaxPool2d(2, 2)\n",
    "        # Calculate the correct input size for the FC layer\n",
    "        self.fc1 = nn.Linear(16 * 110 * 110, 1550)\n",
    "        self.fc2 = nn.Linear(1550, 4)\n",
    "\n",
    "    def forward(self, x):\n",
    "        x = self.pool(F.relu(self.conv(x)))\n",
    "        x = torch.flatten(x, 1)\n",
    "        x = F.relu(self.fc1(x))\n",
    "        x = self.fc2(x)\n",
    "        return x"
   ],
   "metadata": {
    "id": "87Ia4lH6YuR6"
   },
   "id": "87Ia4lH6YuR6"
  },
  {
   "cell_type": "markdown",
   "source": [
    "## Teilaufgabe e): Early Stopping"
   ],
   "metadata": {
    "collapsed": false
   }
  },
  {
   "cell_type": "code",
   "execution_count": null,
   "id": "4a72c1da-07de-4252-a4a9-b373918b1cf2",
   "metadata": {
    "tags": [],
    "id": "4a72c1da-07de-4252-a4a9-b373918b1cf2"
   },
   "outputs": [],
   "source": [
    "class EarlyStopper:\n",
    "\n",
    "    def __init__(self, patience=1, min_delta=0, max_delta=float('inf')):\n",
    "        \"\"\"\n",
    "\n",
    "        :param patience: how often the validation loss is accepted to be higher than the lowest validation loss before the training is stopped\n",
    "        :param min_delta: offset added to the minimal loss as a lower bound for the violation counter\n",
    "        :param max_delta: upper bound for the violation counter (optional to not stop training when the loss is way higher than it once was)\n",
    "        \"\"\"\n",
    "        self.patience = patience\n",
    "        self.min_delta = min_delta\n",
    "        self.max_delta = max_delta\n",
    "        self.counter = 0\n",
    "        self.min_validation_loss = np.inf\n",
    "\n",
    "    def early_stop(self, validation_loss):\n",
    "        \"\"\"\n",
    "        Method to check if the validation loss has not improved for several runs\n",
    "        :param validation_loss: the validation loss of the last trainings run\n",
    "        :return: true if training should be stopped\n",
    "        \"\"\"\n",
    "        # if the given loss is lower that the minimal loss\n",
    "        if validation_loss < self.min_validation_loss:\n",
    "            self.min_validation_loss = validation_loss\n",
    "            self.counter = 0 # reset the conunted violations\n",
    "            print('\\t --> new min validation loss [Early Stopper]')\n",
    "        # else if the given loss i swithin the violation boundary\n",
    "        elif validation_loss > (self.min_validation_loss + self.min_delta) and validation_loss < (self.min_validation_loss + self.max_delta):\n",
    "            # increase the counter of the counted violations\n",
    "            self.counter += 1\n",
    "            print('\\tEarly Stopper Counter: (', self.counter, ') [Early Stopper]')\n",
    "            # if there have been more violations than the patience allows\n",
    "            if self.counter >= self.patience:\n",
    "                return True\n",
    "        return False"
   ]
  },
  {
   "cell_type": "markdown",
   "source": [
    "## Teilaufgabe c) und d): Training und Test mit CNN und Augmentierung"
   ],
   "metadata": {
    "collapsed": false
   }
  },
  {
   "cell_type": "markdown",
   "source": [
    "Datenset-Klasse um mit Pytorch Bilder zu laden.\n",
    "\n",
    "Input sind:\n",
    "- Liste mit Pfaden zu Bildern\n",
    "- Liste mit dazugehörigen Labels (numerisch darstellen!)\n",
    "- Transformation der Bilder\n"
   ],
   "metadata": {
    "collapsed": false
   }
  },
  {
   "cell_type": "code",
   "execution_count": null,
   "outputs": [],
   "source": [
    "class ROBDataset(Dataset):\n",
    "    def __init__(self, img_path_list, img_labels, transform=None):\n",
    "        # Pfade zu den Bildern als list\n",
    "        self.img_path_list = img_path_list\n",
    "\n",
    "        # Dazugehörige Labels zu den Bildern als list\n",
    "        self.img_labels = img_labels\n",
    "\n",
    "        # Transformations der Bilder\n",
    "        self.transform = transform\n",
    "\n",
    "    def __len__(self):\n",
    "        return len(self.img_path_list)\n",
    "\n",
    "    def __getitem__(self, idx):\n",
    "        # Bild laden\n",
    "        img_path = self.img_path_list[idx]\n",
    "        image = read_image(img_path)\n",
    "\n",
    "        # Label laden\n",
    "        label = self.img_labels[idx]\n",
    "\n",
    "        # Transformieren\n",
    "        if self.transform:\n",
    "            image = self.transform(image)\n",
    "\n",
    "        return image.float(), int(label)"
   ],
   "metadata": {
    "collapsed": false
   }
  },
  {
   "cell_type": "markdown",
   "source": [
    "Trainingsiteration über alle Bilder.\n",
    "\n",
    "Inputs sind:\n",
    "- Pytorch dataloader Object über das iteriert wird\n",
    "- bool do_backprob Parameter um Backpropagation durchzuführen oder nicht"
   ],
   "metadata": {
    "collapsed": false
   }
  },
  {
   "cell_type": "code",
   "execution_count": null,
   "outputs": [],
   "source": [
    "from sklearn.metrics import accuracy_score\n",
    "\n",
    "\n",
    "# Iterating over the entire data set once\n",
    "def run_iteration(dataloader, do_backprob=True):\n",
    "    global net, optimizer, criterion\n",
    "    loss_iter = []\n",
    "    acc_iter = []\n",
    "    for batch_x, batch_y in dataloader:\n",
    "        # To device\n",
    "        batch_x = batch_x.to(device)\n",
    "        batch_y = batch_y.to(device)\n",
    "\n",
    "        # zero the parameter gradients\n",
    "        optimizer.zero_grad()\n",
    "\n",
    "        # forward + backward + optimize\n",
    "        y_predict = net(batch_x)\n",
    "        loss = criterion(y_predict, batch_y)\n",
    "        if do_backprob:\n",
    "            loss.backward()\n",
    "            optimizer.step()\n",
    "\n",
    "        # statistics\n",
    "        loss_iter.append(loss.detach().cpu().numpy())\n",
    "\n",
    "        _, predicted = torch.max(torch.softmax(y_predict, dim=1),1)\n",
    "\n",
    "        acc_iter.append(accuracy_score(batch_y.detach().cpu().numpy(),\n",
    "                                       predicted.detach().cpu().numpy()))\n",
    "\n",
    "    return np.mean(loss_iter), np.mean(acc_iter)"
   ],
   "metadata": {
    "collapsed": false
   }
  },
  {
   "cell_type": "markdown",
   "source": [
    "Komplette Durchführung eines Trainings\n",
    "Die Variablen y_train, y_val und y_test müssen noch gesetzt werden. Diese Listen beinhalten die entsprechenden Labels als numerische Darstellung."
   ],
   "metadata": {
    "collapsed": false
   }
  },
  {
   "cell_type": "code",
   "execution_count": null,
   "outputs": [],
   "source": [
    "# Training settings - bei Bedarf anpassbar\n",
    "max_epoch = 100\n",
    "batch_size = 16\n",
    "lr = 0.001\n",
    "\n",
    "# Transformations for dataloader including augumentation\n",
    "t_train = T.Compose([T.ToPILImage(),\n",
    "                   T.Resize((224,224)),\n",
    "                   T.ColorJitter(hue=.05, saturation=.05),\n",
    "                   T.RandomHorizontalFlip(),\n",
    "                   T.RandomRotation(20),\n",
    "                   T.ToTensor(),\n",
    "                   T.Normalize(mean=(0.5,0.5,0.5), std=(0.5,0.5,0.5))])\n",
    "t_val = T.Compose([T.ToPILImage(),\n",
    "                   T.Resize((224,224)),\n",
    "                   T.ColorJitter(hue=.05, saturation=.05),\n",
    "                   T.RandomHorizontalFlip(),\n",
    "                   T.RandomRotation(20),\n",
    "                   T.ToTensor(),\n",
    "                   T.Normalize(mean=(0.5,0.5,0.5), std=(0.5,0.5,0.5))])\n",
    "t_test = T.Compose([T.ToPILImage(),\n",
    "                   T.Resize((224,224)),\n",
    "                   T.ColorJitter(hue=.05, saturation=.05),\n",
    "                   T.RandomHorizontalFlip(),\n",
    "                   T.RandomRotation(20),\n",
    "                   T.ToTensor(),\n",
    "                   T.Normalize(mean=(0.5,0.5,0.5), std=(0.5,0.5,0.5))])\n",
    "# Where to do calculations\n",
    "device = torch.device(\"cuda:0\" if torch.cuda.is_available() else \"cpu\")\n",
    "print(\"Running on \",device)\n",
    "\n",
    "# Training Data, NOTE: y_train labels need to be set\n",
    "dataset_train = ROBDataset(training_path_list, y_train, transform=t_train)\n",
    "dataloader_train = DataLoader(dataset_train, batch_size=batch_size, shuffle=True)\n",
    "\n",
    "# Validation Data, NOTE: y_val labels need to be set\n",
    "dataset_val = ROBDataset(validation_path_list, y_val, transform=t_val)\n",
    "dataloader_val = DataLoader(dataset_val, batch_size=batch_size, shuffle=False)\n",
    "\n",
    "# Test Data, NOTE: y_test labels need. to be set\n",
    "dataset_test = ROBDataset(test_path_list, y_test,transform=t_test)\n",
    "dataloader_test = DataLoader(dataset_test, batch_size=batch_size, shuffle=False)\n",
    "\n",
    "# Network, optimizer and loss initialisation\n",
    "net = NetComplex()\n",
    "net.to(device)\n",
    "optimizer = optim.Adam(net.parameters(), lr=lr)\n",
    "criterion = nn.CrossEntropyLoss()\n",
    "\n",
    "# Los geht's mit Training\n",
    "print(\"\\nStarted Training\")\n",
    "# Training loss and accuracy per epoch\n",
    "train_loss_epoch = []\n",
    "train_acc_epoch = []\n",
    "# Validation loss and accuracy per epoch\n",
    "val_loss_epoch = []\n",
    "val_acc_epoch = []\n",
    "# Early Stopper\n",
    "early_stopper = EarlyStopper(patience=15, min_delta=0.05, max_delta=0.3)\n",
    "\n",
    "for epoch in range(0,max_epoch):  # loop over the dataset multiple times\n",
    "    print(f\"Epoch {epoch+1} from {max_epoch}\")\n",
    "\n",
    "    ### TRAINING ###\n",
    "    net.train()\n",
    "    train_loss_iter, train_acc_iter = run_iteration(dataloader_train)\n",
    "\n",
    "    # Logging loss and accuarcy of training iteration\n",
    "    train_loss_epoch.append(train_loss_iter)\n",
    "    train_acc_epoch.append(train_acc_iter)\n",
    "    print(\"\\tTrain Loss\\t\",train_loss_iter)\n",
    "    print(\"\\tTrain Acc.\\t\",train_acc_iter)\n",
    "\n",
    "    ### VALIDATION ###\n",
    "    with torch.no_grad():  # No gradient calculation\n",
    "        net.eval()\n",
    "        val_loss_iter, val_acc_iter = run_iteration(dataloader_val,do_backprob=False)\n",
    "\n",
    "        # Logging loss and accuarcy of validation iteration\n",
    "        val_loss_epoch.append(val_loss_iter)\n",
    "        val_acc_epoch.append(val_acc_iter)\n",
    "        print(\"\\tVal Loss\\t\",val_loss_iter)\n",
    "        print(\"\\tVal Acc.\\t\",val_acc_iter)\n",
    "\n",
    "    if early_stopper.early_stop(val_loss_iter):\n",
    "        break\n",
    "\n",
    "# Plotting results\n",
    "fig, ax = plt.subplots(nrows=1,ncols=2,figsize=(10,3))\n",
    "ax[0].plot(train_loss_epoch,label=\"Train\")\n",
    "ax[0].plot(val_loss_epoch,label=\"Val\",linestyle=\"-.\")\n",
    "ax[0].set_ylabel('Loss')\n",
    "ax[0].set_xlabel('Epochs')\n",
    "ax[0].legend()\n",
    "\n",
    "ax[1].plot(train_acc_epoch,label=\"Train\")\n",
    "ax[1].plot(val_acc_epoch,label=\"Val\",linestyle=\"-.\")\n",
    "ax[1].set_ylabel('Accuracy')\n",
    "ax[1].set_xlabel('Epochs')\n",
    "ax[1].legend()\n",
    "plt.savefig(\"loss_augmentation.png\",format=\"png\",bbox_inches=\"tight\")"
   ],
   "metadata": {
    "collapsed": false
   }
  },
  {
   "cell_type": "markdown",
   "source": [
    "Berechnung der Accuracy und der Scores auf den Trainingsdaten"
   ],
   "metadata": {
    "collapsed": false
   }
  },
  {
   "cell_type": "code",
   "execution_count": null,
   "outputs": [],
   "source": [
    "from sklearn.metrics import f1_score, recall_score, precision_score, confusion_matrix\n",
    "y_pred = [] # Create an empty list to store the predicted values\n",
    "correct = 0\n",
    "total = 0\n",
    "\n",
    "# since we're not training, we don't need to calculate the gradients for our outputs\n",
    "with torch.no_grad():\n",
    "    for data in dataloader_test:\n",
    "        images, labels = data\n",
    "        if torch.cuda.is_available():\n",
    "            images, labels = images.cuda(), labels.cuda() # send to gpu\n",
    "        # calculate outputs by running images through the network\n",
    "        outputs = net(images)\n",
    "        # the class with the highest energy is what we choose as prediction\n",
    "        _, predicted = torch.max(outputs.data, 1)\n",
    "        y_pred.extend(predicted.cpu().numpy())  # Append the predicted values to the list\n",
    "        total += labels.size(0)\n",
    "        correct += (predicted == labels).sum().item()\n",
    "\n",
    "print(f'Accuracy: {100 * correct // total} %')\n",
    "print(\"F1 Score:\", f1_score(y_test, y_pred, average='micro'))\n",
    "print(\"Recall:\", recall_score(y_test, y_pred, average='micro'))\n",
    "print(\"Precision:\", precision_score(y_test, y_pred, average='micro'))\n",
    "print('Confusion matrix:', confusion_matrix(y_test, y_pred))"
   ],
   "metadata": {
    "collapsed": false
   }
  }
 ],
 "metadata": {
  "kernelspec": {
   "display_name": "Python 3",
   "name": "python3"
  },
  "language_info": {
   "codemirror_mode": {
    "name": "ipython",
    "version": 3
   },
   "file_extension": ".py",
   "mimetype": "text/x-python",
   "name": "python",
   "nbconvert_exporter": "python",
   "pygments_lexer": "ipython3",
   "version": "3.10.8"
  },
  "colab": {
   "provenance": [],
   "gpuType": "T4"
  },
  "accelerator": "GPU"
 },
 "nbformat": 4,
 "nbformat_minor": 5
}
