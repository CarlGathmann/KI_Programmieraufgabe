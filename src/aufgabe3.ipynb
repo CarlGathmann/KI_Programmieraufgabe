{
 "cells": [
  {
   "cell_type": "markdown",
   "id": "f0400fe7-1e50-481d-bb7e-62f2c126d4c2",
   "metadata": {
    "id": "f0400fe7-1e50-481d-bb7e-62f2c126d4c2"
   },
   "source": [
    "\n",
    "# Aufgabe 3 - Tiefe Einblicke ins Institut: Reloaded"
   ]
  },
  {
   "cell_type": "markdown",
   "id": "e59687f3-c461-4f6e-a898-d023cdc8c67c",
   "metadata": {
    "id": "e59687f3-c461-4f6e-a898-d023cdc8c67c"
   },
   "source": [
    "Den Code immer nachvollziehbar kommentieren! Bitte beachtet, dass das Notebook von Anfang bis Ende ohne Fehler durchlaufen muss und dass die requirements.txt Datei aktualisiert wird."
   ]
  },
  {
   "cell_type": "code",
   "execution_count": 62,
   "id": "48e97f2a-c3df-4121-8b13-eb35a1e77435",
   "metadata": {
    "id": "48e97f2a-c3df-4121-8b13-eb35a1e77435",
    "ExecuteTime": {
     "end_time": "2023-07-30T12:10:26.330309Z",
     "start_time": "2023-07-30T12:10:26.294358Z"
    }
   },
   "outputs": [],
   "source": [
    "import random\n",
    "\n",
    "import torch\n",
    "import torch.nn as nn\n",
    "import torch.nn.functional as F\n",
    "import torchvision.transforms as T\n",
    "import torch.optim as optim\n",
    "from torchvision.io import read_image\n",
    "from torch.utils.data import DataLoader\n",
    "from torch.utils.data import Dataset\n",
    "\n",
    "import numpy as np\n",
    "import matplotlib.pyplot as plt"
   ]
  },
  {
   "cell_type": "code",
   "source": [
    "colab = False\n",
    "directory = \"Bilder\"\n",
    "# connect to google drive when using google colab for gpu\n",
    "if colab:\n",
    "    from google.colab import drive\n",
    "    drive.mount('/content/drive')\n",
    "    directory = \"/content/drive/MyDrive/Colab Notebooks/Bilder\""
   ],
   "metadata": {
    "colab": {
     "base_uri": "https://localhost:8080/"
    },
    "id": "Mh1-dSM38AkY",
    "outputId": "5c5484f6-72f9-4427-b89e-30ce3b316d9d",
    "ExecuteTime": {
     "end_time": "2023-07-30T12:10:26.331643Z",
     "start_time": "2023-07-30T12:10:26.298221Z"
    }
   },
   "id": "Mh1-dSM38AkY",
   "execution_count": 63,
   "outputs": []
  },
  {
   "cell_type": "markdown",
   "id": "ec5f0020-55eb-4023-a883-90ac6206cfb3",
   "metadata": {
    "id": "ec5f0020-55eb-4023-a883-90ac6206cfb3"
   },
   "source": [
    "## Teilaufgabe a): Trainings-, Test-und Validierungsdatenset"
   ]
  },
  {
   "cell_type": "code",
   "execution_count": 64,
   "id": "2c91f492-e05c-4a7f-9a1c-8674e2ed71d4",
   "metadata": {
    "id": "2c91f492-e05c-4a7f-9a1c-8674e2ed71d4",
    "ExecuteTime": {
     "end_time": "2023-07-30T12:10:26.332914Z",
     "start_time": "2023-07-30T12:10:26.302931Z"
    }
   },
   "outputs": [],
   "source": [
    "training_list = []\n",
    "test_list = []\n",
    "validation_list = []\n",
    "\n",
    "# map the room/path names to an integer for integer classification\n",
    "name_to_label = {\n",
    "            'Professorenbuero': 0,\n",
    "            'Flur': 1,\n",
    "            'Labor': 2,\n",
    "            'Teekueche': 3\n",
    "        }\n",
    "# load the images for each path, split and add them to the trainings, test and validation list\n",
    "for path_name in name_to_label.keys():\n",
    "    pic_amount = 25 #len(os.listdir(f\"Bilder/{file_paths[name]}\"))\n",
    "    tmp_paths = [(f\"{directory}/{path_name}/{path_name + str(i + 1)}.jpg\", name_to_label[path_name])for i in range(pic_amount)] # (Tensor,lbl) list\n",
    "    random.shuffle(tmp_paths)\n",
    "\n",
    "    training_list += tmp_paths[:int(0.7 * pic_amount)]\n",
    "    validation_list += tmp_paths[int(0.7 * pic_amount):int(0.8 * pic_amount)] # 3 pics each\n",
    "    test_list += tmp_paths[int(0.8 * pic_amount):]\n",
    "\n",
    "random.shuffle(training_list)\n",
    "random.shuffle(test_list)\n",
    "random.shuffle(validation_list)\n",
    "\n",
    "# split the shuffled tupel lists into X and y: [\"./pfad/zu/bildZ.png\",\"./pfad/zu/bildY.png\",...], [1,1,1,2,2,2,...]\n",
    "training_path_list, y_train = [tup[0] for tup in training_list], [tup[1] for tup in training_list]\n",
    "test_path_list, y_test = [tup[0] for tup in test_list], [tup[1] for tup in test_list]\n",
    "validation_path_list, y_val = [tup[0] for tup in validation_list], [tup[1] for tup in validation_list]"
   ]
  },
  {
   "cell_type": "markdown",
   "id": "b16c6c68-033e-4d57-ba02-fc86c53f34f1",
   "metadata": {
    "id": "b16c6c68-033e-4d57-ba02-fc86c53f34f1"
   },
   "source": [
    "## Teilaufgabe b): CNN definieren und implementieren"
   ]
  },
  {
   "cell_type": "markdown",
   "source": [
    "Wir haben uns dafür entschieden, ein CNN mit 3 Convolutional Layern und 2 Fully Connected Layern zu implementieren. Wir haben uns für die finale Architektur (Net) entschieden, da wir mit dieser Architektur empirisch die besten Ergebnisse erzielt haben. Es ist eine relativ leichte Architektur, die für einfache Bildklassifizierungen geeignet ist.\n",
    "\n",
    "Die Vorteile der komplexeren Architekturen sind Dropoutlayer/Batchnormen, die Überanpassung vermeiden sollen. Wir haben uns gegen diese entschieden, da wir mit der finalen Architektur bereits gute Ergebnisse erzielt haben und die anderen Architekturen zu komplex für die Aufgabe sind."
   ],
   "metadata": {
    "collapsed": false
   },
   "id": "aa31a83d5ab70b7e"
  },
  {
   "cell_type": "code",
   "execution_count": 65,
   "id": "3f484794-3ab2-4edf-84e4-8debf29b1d57",
   "metadata": {
    "id": "3f484794-3ab2-4edf-84e4-8debf29b1d57",
    "ExecuteTime": {
     "end_time": "2023-07-30T12:10:26.339752Z",
     "start_time": "2023-07-30T12:10:26.307897Z"
    }
   },
   "outputs": [],
   "source": [
    "class NetComplex(nn.Module):\n",
    "    def __init__(self):\n",
    "        super().__init__()\n",
    "        # cite\n",
    "        self.conv1 = nn.Conv2d(3, 16, kernel_size=3)\n",
    "        self.conv2 = nn.Conv2d(16, 32, kernel_size=3)\n",
    "        self.conv3 = nn.Conv2d(32, 64, kernel_size=3)\n",
    "        self.bn1 = nn.BatchNorm2d(16)\n",
    "        self.bn2 = nn.BatchNorm2d(32)\n",
    "        self.bn3 = nn.BatchNorm2d(64)\n",
    "        self.pool = nn.MaxPool2d(2, 2)\n",
    "        #self.fc1 = nn.Linear(43264, 256)\n",
    "        self.fc1 = nn.Linear(43264, 16)\n",
    "        #self.fc2 = nn.Linear(256, 16)\n",
    "        self.fc3 = nn.Linear(16, 4)\n",
    "\n",
    "    def forward(self, x):\n",
    "        #layer 1\n",
    "        x = self.pool(F.relu(self.conv1(x)))\n",
    "        x = self.bn1(x)\n",
    "        #layer 2\n",
    "        x = self.pool(F.relu(self.conv2(x)))\n",
    "        x = self.bn2(x)\n",
    "        # layer 3\n",
    "        x = self.pool(F.relu(self.conv3(x)))\n",
    "        x = self.bn3(x)\n",
    "        # flatten\n",
    "        x = torch.flatten(x, 1)\n",
    "        # dense layers\n",
    "        x = F.relu(self.fc1(x))\n",
    "        #x = F.relu(self.fc2(x))\n",
    "        x = self.fc3(x)\n",
    "\n",
    "        return x"
   ]
  },
  {
   "cell_type": "code",
   "source": [
    "class NetComplexP(nn.Module):\n",
    "    def __init__(self):\n",
    "        super().__init__()\n",
    "        # cite\n",
    "        self.conv1 = nn.Conv2d(3, 16, kernel_size=3)\n",
    "        self.conv2 = nn.Conv2d(16, 32, kernel_size=3)\n",
    "        self.conv3 = nn.Conv2d(32, 64, kernel_size=3)\n",
    "        self.conv4 = nn.Conv2d(64, 128, kernel_size=3)\n",
    "        self.pool = nn.MaxPool2d(2, 2)\n",
    "        self.fc1 = nn.Linear(18432, 256)\n",
    "        self.fc2 = nn.Linear(256, 128)\n",
    "        self.fc3 = nn.Linear(128, 4)\n",
    "        self.dropout = nn.Dropout(0.2)\n",
    "\n",
    "    def forward(self, x):\n",
    "\n",
    "        #layer 1\n",
    "        x = self.dropout(self.pool(F.relu(self.conv1(x))))\n",
    "        #layer 2\n",
    "        x = self.dropout(self.pool(F.relu(self.conv2(x))))\n",
    "        # layer 3\n",
    "        x = self.dropout(self.pool(F.relu(self.conv3(x))))\n",
    "        # layer 4\n",
    "        x = self.dropout(self.pool(F.relu(self.conv4(x))))\n",
    "        # flatten\n",
    "        x = torch.flatten(x, 1)\n",
    "        # dense layers\n",
    "        x = F.relu(self.fc1(x))\n",
    "        x = self.dropout(x)\n",
    "        x = F.relu(self.fc2(x))\n",
    "        x = self.fc3(x)\n",
    "\n",
    "        return x"
   ],
   "metadata": {
    "id": "ymBj1W3-hC_y",
    "ExecuteTime": {
     "end_time": "2023-07-30T12:10:26.355250Z",
     "start_time": "2023-07-30T12:10:26.310094Z"
    }
   },
   "id": "ymBj1W3-hC_y",
   "execution_count": 66,
   "outputs": []
  },
  {
   "cell_type": "code",
   "execution_count": 67,
   "outputs": [],
   "source": [
    "class Net(nn.Module):\n",
    "    def __init__(self):\n",
    "        super().__init__()\n",
    "        self.conv = nn.Conv2d(3, 16, 4)\n",
    "        self.pool = nn.MaxPool2d(2, 2)\n",
    "        # Calculate the correct input size for the FC layer\n",
    "        self.fc1 = nn.Linear(16 * 110 * 110, 1550)\n",
    "        self.fc2 = nn.Linear(1550, 4)\n",
    "\n",
    "    def forward(self, x):\n",
    "        x = self.pool(F.relu(self.conv(x)))\n",
    "        x = torch.flatten(x, 1)\n",
    "        x = F.relu(self.fc1(x))\n",
    "        x = self.fc2(x)\n",
    "        return x"
   ],
   "metadata": {
    "id": "87Ia4lH6YuR6",
    "ExecuteTime": {
     "end_time": "2023-07-30T12:10:26.356445Z",
     "start_time": "2023-07-30T12:10:26.317746Z"
    }
   },
   "id": "87Ia4lH6YuR6"
  },
  {
   "cell_type": "markdown",
   "source": [
    "## Teilaufgabe e): Early Stopping"
   ],
   "metadata": {
    "collapsed": false
   },
   "id": "4a9557c92fab99a6"
  },
  {
   "cell_type": "code",
   "execution_count": 68,
   "id": "4a72c1da-07de-4252-a4a9-b373918b1cf2",
   "metadata": {
    "tags": [],
    "id": "4a72c1da-07de-4252-a4a9-b373918b1cf2",
    "ExecuteTime": {
     "end_time": "2023-07-30T12:10:26.357047Z",
     "start_time": "2023-07-30T12:10:26.321172Z"
    }
   },
   "outputs": [],
   "source": [
    "class EarlyStopper:\n",
    "\n",
    "    def __init__(self, patience=1, min_delta=0, max_delta=float('inf')):\n",
    "        \"\"\"\n",
    "\n",
    "        :param patience: how often the validation loss is accepted to be higher than the lowest validation loss before the training is stopped\n",
    "        :param min_delta: offset added to the minimal loss as a lower bound for the violation counter\n",
    "        :param max_delta: upper bound for the violation counter (optional to not stop training when the loss is way higher than it once was)\n",
    "        \"\"\"\n",
    "        self.patience = patience\n",
    "        self.min_delta = min_delta\n",
    "        self.max_delta = max_delta\n",
    "        self.counter = 0\n",
    "        self.min_validation_loss = np.inf\n",
    "\n",
    "    def early_stop(self, validation_loss):\n",
    "        \"\"\"\n",
    "        Method to check if the validation loss has not improved for several runs\n",
    "        :param validation_loss: the validation loss of the last trainings run\n",
    "        :return: true if training should be stopped\n",
    "        \"\"\"\n",
    "        # if the given loss is lower that the minimal loss\n",
    "        if validation_loss < self.min_validation_loss:\n",
    "            self.min_validation_loss = validation_loss\n",
    "            self.counter = 0 # reset the conunted violations\n",
    "            print('\\t --> new min validation loss [Early Stopper]')\n",
    "        # else if the given loss i swithin the violation boundary\n",
    "        elif (self.min_validation_loss + self.min_delta) < validation_loss < (self.min_validation_loss + self.max_delta):\n",
    "            # increase the counter of the counted violations\n",
    "            self.counter += 1\n",
    "            print('\\tEarly Stopper Counter: (', self.counter, ') [Early Stopper]')\n",
    "            # if there have been more violations than the patience allows\n",
    "            if self.counter >= self.patience:\n",
    "                return True\n",
    "        return False"
   ]
  },
  {
   "cell_type": "markdown",
   "source": [
    "## Teilaufgabe c) und d): Training und Test mit CNN und Augmentierung"
   ],
   "metadata": {
    "collapsed": false
   },
   "id": "5b26e5a7e7ab980f"
  },
  {
   "cell_type": "markdown",
   "source": [
    "Datenset-Klasse um mit Pytorch Bilder zu laden.\n",
    "\n",
    "Input sind:\n",
    "- Liste mit Pfaden zu Bildern\n",
    "- Liste mit dazugehörigen Labels (numerisch darstellen!)\n",
    "- Transformation der Bilder\n"
   ],
   "metadata": {
    "collapsed": false
   },
   "id": "a3f3f16b6494255"
  },
  {
   "cell_type": "code",
   "execution_count": 69,
   "outputs": [],
   "source": [
    "class ROBDataset(Dataset):\n",
    "    def __init__(self, img_path_list, img_labels, transform=None):\n",
    "        # Pfade zu den Bildern als list\n",
    "        self.img_path_list = img_path_list\n",
    "\n",
    "        # Dazugehörige Labels zu den Bildern als list\n",
    "        self.img_labels = img_labels\n",
    "\n",
    "        # Transformations der Bilder\n",
    "        self.transform = transform\n",
    "\n",
    "    def __len__(self):\n",
    "        return len(self.img_path_list)\n",
    "\n",
    "    def __getitem__(self, idx):\n",
    "        # Bild laden\n",
    "        img_path = self.img_path_list[idx]\n",
    "        image = read_image(img_path)\n",
    "\n",
    "        # Label laden\n",
    "        label = self.img_labels[idx]\n",
    "\n",
    "        # Transformieren\n",
    "        if self.transform:\n",
    "            image = self.transform(image)\n",
    "\n",
    "        return image.float(), int(label)"
   ],
   "metadata": {
    "collapsed": false,
    "ExecuteTime": {
     "end_time": "2023-07-30T12:10:26.357109Z",
     "start_time": "2023-07-30T12:10:26.324925Z"
    }
   },
   "id": "9ad017faa219a38c"
  },
  {
   "cell_type": "markdown",
   "source": [
    "Trainingsiteration über alle Bilder.\n",
    "\n",
    "Inputs sind:\n",
    "- Pytorch dataloader Object über das iteriert wird\n",
    "- bool do_backprob Parameter um Backpropagation durchzuführen oder nicht"
   ],
   "metadata": {
    "collapsed": false
   },
   "id": "22dfc08d97a25792"
  },
  {
   "cell_type": "code",
   "execution_count": 70,
   "outputs": [],
   "source": [
    "from sklearn.metrics import accuracy_score\n",
    "\n",
    "\n",
    "# Iterating over the entire data set once\n",
    "def run_iteration(dataloader, do_backprob=True):\n",
    "    global net, optimizer, criterion\n",
    "    loss_iter = []\n",
    "    acc_iter = []\n",
    "    for batch_x, batch_y in dataloader:\n",
    "        # To device\n",
    "        batch_x = batch_x.to(device)\n",
    "        batch_y = batch_y.to(device)\n",
    "\n",
    "        # zero the parameter gradients\n",
    "        optimizer.zero_grad()\n",
    "\n",
    "        # forward + backward + optimize\n",
    "        y_predict = net(batch_x)\n",
    "        loss = criterion(y_predict, batch_y)\n",
    "        if do_backprob:\n",
    "            loss.backward()\n",
    "            optimizer.step()\n",
    "\n",
    "        # statistics\n",
    "        loss_iter.append(loss.detach().cpu().numpy())\n",
    "\n",
    "        _, predicted = torch.max(torch.softmax(y_predict, dim=1),1)\n",
    "\n",
    "        acc_iter.append(accuracy_score(batch_y.detach().cpu().numpy(),\n",
    "                                       predicted.detach().cpu().numpy()))\n",
    "\n",
    "    return np.mean(loss_iter), np.mean(acc_iter)"
   ],
   "metadata": {
    "collapsed": false,
    "ExecuteTime": {
     "end_time": "2023-07-30T12:10:26.357155Z",
     "start_time": "2023-07-30T12:10:26.328594Z"
    }
   },
   "id": "26bea09bccfb8d3d"
  },
  {
   "cell_type": "markdown",
   "source": [
    "Komplette Durchführung eines Trainings\n",
    "Die Variablen y_train, y_val und y_test müssen noch gesetzt werden. Diese Listen beinhalten die entsprechenden Labels als numerische Darstellung."
   ],
   "metadata": {
    "collapsed": false
   },
   "id": "ce1af0f870e9e16b"
  },
  {
   "cell_type": "code",
   "execution_count": 71,
   "outputs": [
    {
     "name": "stdout",
     "output_type": "stream",
     "text": [
      "Running on  cpu\n",
      "\n",
      "Started Training\n",
      "Epoch 1 from 100\n",
      "\tTrain Loss\t 54.350037\n",
      "\tTrain Acc.\t 0.3875\n",
      "\tVal Loss\t 63.96292\n",
      "\tVal Acc.\t 0.25\n",
      "\t --> new min validation loss [Early Stopper]\n",
      "Epoch 2 from 100\n",
      "\tTrain Loss\t 30.885952\n",
      "\tTrain Acc.\t 0.3125\n",
      "\tVal Loss\t 13.898656\n",
      "\tVal Acc.\t 0.5\n",
      "\t --> new min validation loss [Early Stopper]\n",
      "Epoch 3 from 100\n",
      "\tTrain Loss\t 13.95708\n",
      "\tTrain Acc.\t 0.475\n",
      "\tVal Loss\t 9.745544\n",
      "\tVal Acc.\t 0.5833333333333334\n",
      "\t --> new min validation loss [Early Stopper]\n",
      "Epoch 4 from 100\n",
      "\tTrain Loss\t 5.2195625\n",
      "\tTrain Acc.\t 0.5375\n",
      "\tVal Loss\t 7.122868\n",
      "\tVal Acc.\t 0.3333333333333333\n",
      "\t --> new min validation loss [Early Stopper]\n",
      "Epoch 5 from 100\n",
      "\tTrain Loss\t 4.177617\n",
      "\tTrain Acc.\t 0.3875\n",
      "\tVal Loss\t 2.9132042\n",
      "\tVal Acc.\t 0.5\n",
      "\t --> new min validation loss [Early Stopper]\n",
      "Epoch 6 from 100\n",
      "\tTrain Loss\t 2.5362782\n",
      "\tTrain Acc.\t 0.6\n",
      "\tVal Loss\t 3.1330688\n",
      "\tVal Acc.\t 0.5\n",
      "\tEarly Stopper Counter: ( 1 ) [Early Stopper]\n",
      "Epoch 7 from 100\n",
      "\tTrain Loss\t 2.2725098\n",
      "\tTrain Acc.\t 0.5375\n",
      "\tVal Loss\t 1.2034726\n",
      "\tVal Acc.\t 0.8333333333333334\n",
      "\t --> new min validation loss [Early Stopper]\n",
      "Epoch 8 from 100\n",
      "\tTrain Loss\t 1.0536596\n",
      "\tTrain Acc.\t 0.725\n",
      "\tVal Loss\t 1.2908157\n",
      "\tVal Acc.\t 0.5833333333333334\n",
      "\tEarly Stopper Counter: ( 1 ) [Early Stopper]\n",
      "Epoch 9 from 100\n",
      "\tTrain Loss\t 0.49077922\n",
      "\tTrain Acc.\t 0.775\n",
      "\tVal Loss\t 0.7485239\n",
      "\tVal Acc.\t 0.5833333333333334\n",
      "\t --> new min validation loss [Early Stopper]\n",
      "Epoch 10 from 100\n",
      "\tTrain Loss\t 0.5505109\n",
      "\tTrain Acc.\t 0.7\n",
      "\tVal Loss\t 1.0386336\n",
      "\tVal Acc.\t 0.75\n",
      "\tEarly Stopper Counter: ( 1 ) [Early Stopper]\n",
      "Epoch 11 from 100\n",
      "\tTrain Loss\t 0.42493743\n",
      "\tTrain Acc.\t 0.775\n",
      "\tVal Loss\t 1.0196917\n",
      "\tVal Acc.\t 0.6666666666666666\n",
      "\tEarly Stopper Counter: ( 2 ) [Early Stopper]\n",
      "Epoch 12 from 100\n",
      "\tTrain Loss\t 0.31688806\n",
      "\tTrain Acc.\t 0.9\n",
      "\tVal Loss\t 1.004792\n",
      "\tVal Acc.\t 0.6666666666666666\n",
      "\tEarly Stopper Counter: ( 3 ) [Early Stopper]\n",
      "Epoch 13 from 100\n",
      "\tTrain Loss\t 0.6744286\n",
      "\tTrain Acc.\t 0.8\n",
      "\tVal Loss\t 0.94501567\n",
      "\tVal Acc.\t 0.6666666666666666\n",
      "\tEarly Stopper Counter: ( 4 ) [Early Stopper]\n",
      "Epoch 14 from 100\n",
      "\tTrain Loss\t 0.189208\n",
      "\tTrain Acc.\t 0.925\n",
      "\tVal Loss\t 0.640883\n",
      "\tVal Acc.\t 0.5833333333333334\n",
      "\t --> new min validation loss [Early Stopper]\n",
      "Epoch 15 from 100\n",
      "\tTrain Loss\t 0.18844226\n",
      "\tTrain Acc.\t 0.9625\n",
      "\tVal Loss\t 0.7002883\n",
      "\tVal Acc.\t 0.8333333333333334\n",
      "\tEarly Stopper Counter: ( 1 ) [Early Stopper]\n",
      "Epoch 16 from 100\n",
      "\tTrain Loss\t 0.17674057\n",
      "\tTrain Acc.\t 0.9625\n",
      "\tVal Loss\t 0.79517794\n",
      "\tVal Acc.\t 0.75\n",
      "\tEarly Stopper Counter: ( 2 ) [Early Stopper]\n",
      "Epoch 17 from 100\n",
      "\tTrain Loss\t 0.14498521\n",
      "\tTrain Acc.\t 0.9625\n",
      "\tVal Loss\t 0.88988286\n",
      "\tVal Acc.\t 0.75\n",
      "\tEarly Stopper Counter: ( 3 ) [Early Stopper]\n",
      "Epoch 18 from 100\n",
      "\tTrain Loss\t 0.121354006\n",
      "\tTrain Acc.\t 0.95\n",
      "\tVal Loss\t 0.73105645\n",
      "\tVal Acc.\t 0.75\n",
      "\tEarly Stopper Counter: ( 4 ) [Early Stopper]\n",
      "Epoch 19 from 100\n",
      "\tTrain Loss\t 0.12795302\n",
      "\tTrain Acc.\t 0.95\n",
      "\tVal Loss\t 0.5690555\n",
      "\tVal Acc.\t 0.75\n",
      "\t --> new min validation loss [Early Stopper]\n",
      "Epoch 20 from 100\n",
      "\tTrain Loss\t 0.09549215\n",
      "\tTrain Acc.\t 0.975\n",
      "\tVal Loss\t 0.6619312\n",
      "\tVal Acc.\t 0.75\n",
      "\tEarly Stopper Counter: ( 1 ) [Early Stopper]\n",
      "Epoch 21 from 100\n",
      "\tTrain Loss\t 0.1562706\n",
      "\tTrain Acc.\t 0.9625\n",
      "\tVal Loss\t 0.7308199\n",
      "\tVal Acc.\t 0.6666666666666666\n",
      "\tEarly Stopper Counter: ( 2 ) [Early Stopper]\n",
      "Epoch 22 from 100\n",
      "\tTrain Loss\t 0.11817584\n",
      "\tTrain Acc.\t 0.9375\n",
      "\tVal Loss\t 0.49948135\n",
      "\tVal Acc.\t 0.6666666666666666\n",
      "\t --> new min validation loss [Early Stopper]\n",
      "Epoch 23 from 100\n",
      "\tTrain Loss\t 0.121494666\n",
      "\tTrain Acc.\t 0.9375\n",
      "\tVal Loss\t 1.1758834\n",
      "\tVal Acc.\t 0.6666666666666666\n",
      "Epoch 24 from 100\n",
      "\tTrain Loss\t 0.09131513\n",
      "\tTrain Acc.\t 0.9875\n",
      "\tVal Loss\t 0.81305414\n",
      "\tVal Acc.\t 0.8333333333333334\n",
      "Epoch 25 from 100\n",
      "\tTrain Loss\t 0.07516088\n",
      "\tTrain Acc.\t 0.975\n",
      "\tVal Loss\t 0.62187576\n",
      "\tVal Acc.\t 0.75\n",
      "\tEarly Stopper Counter: ( 1 ) [Early Stopper]\n",
      "Epoch 26 from 100\n",
      "\tTrain Loss\t 0.07221852\n",
      "\tTrain Acc.\t 0.975\n",
      "\tVal Loss\t 0.8128268\n",
      "\tVal Acc.\t 0.75\n",
      "Epoch 27 from 100\n",
      "\tTrain Loss\t 0.06338309\n",
      "\tTrain Acc.\t 0.9875\n",
      "\tVal Loss\t 0.58151823\n",
      "\tVal Acc.\t 0.8333333333333334\n",
      "\tEarly Stopper Counter: ( 2 ) [Early Stopper]\n",
      "Epoch 28 from 100\n",
      "\tTrain Loss\t 0.09566904\n",
      "\tTrain Acc.\t 0.975\n",
      "\tVal Loss\t 0.7252355\n",
      "\tVal Acc.\t 0.6666666666666666\n",
      "\tEarly Stopper Counter: ( 3 ) [Early Stopper]\n",
      "Epoch 29 from 100\n",
      "\tTrain Loss\t 0.08155076\n",
      "\tTrain Acc.\t 0.975\n",
      "\tVal Loss\t 0.7545406\n",
      "\tVal Acc.\t 0.75\n",
      "\tEarly Stopper Counter: ( 4 ) [Early Stopper]\n",
      "Epoch 30 from 100\n",
      "\tTrain Loss\t 0.05520484\n",
      "\tTrain Acc.\t 0.9875\n",
      "\tVal Loss\t 0.9282942\n",
      "\tVal Acc.\t 0.75\n",
      "Epoch 31 from 100\n",
      "\tTrain Loss\t 0.03370878\n",
      "\tTrain Acc.\t 1.0\n",
      "\tVal Loss\t 0.67554337\n",
      "\tVal Acc.\t 0.75\n",
      "\tEarly Stopper Counter: ( 5 ) [Early Stopper]\n"
     ]
    },
    {
     "data": {
      "text/plain": "<Figure size 1000x300 with 2 Axes>",
      "image/png": "[encoded data removed]"
     },
     "metadata": {},
     "output_type": "display_data"
    }
   ],
   "source": [
    "# Training settings - bei Bedarf anpassbar\n",
    "max_epoch = 100\n",
    "batch_size = 16\n",
    "lr = 0.001\n",
    "\n",
    "# Transformations for dataloader including augumentation\n",
    "t_train = T.Compose([T.ToPILImage(),\n",
    "                   T.Resize((224,224)),\n",
    "                   T.ColorJitter(hue=.05, saturation=.05),\n",
    "                   T.RandomHorizontalFlip(),\n",
    "                   T.RandomRotation(20),\n",
    "                   T.ToTensor(),\n",
    "                   T.Normalize(mean=(0.5,0.5,0.5), std=(0.5,0.5,0.5))])\n",
    "t_val = T.Compose([T.ToPILImage(),\n",
    "                   T.Resize((224,224)),\n",
    "                   T.ColorJitter(hue=.05, saturation=.05),\n",
    "                   T.RandomHorizontalFlip(),\n",
    "                   T.RandomRotation(20),\n",
    "                   T.ToTensor(),\n",
    "                   T.Normalize(mean=(0.5,0.5,0.5), std=(0.5,0.5,0.5))])\n",
    "t_test = T.Compose([T.ToPILImage(),\n",
    "                   T.Resize((224,224)),\n",
    "                   T.ColorJitter(hue=.05, saturation=.05),\n",
    "                   T.RandomHorizontalFlip(),\n",
    "                   T.RandomRotation(20),\n",
    "                   T.ToTensor(),\n",
    "                   T.Normalize(mean=(0.5,0.5,0.5), std=(0.5,0.5,0.5))])\n",
    "# Where to do calculations\n",
    "device = torch.device(\"cuda:0\" if torch.cuda.is_available() else \"cpu\")\n",
    "print(\"Running on \",device)\n",
    "\n",
    "# Training Data, NOTE: y_train labels need to be set\n",
    "dataset_train = ROBDataset(training_path_list, y_train, transform=t_train)\n",
    "dataloader_train = DataLoader(dataset_train, batch_size=batch_size, shuffle=True)\n",
    "\n",
    "# Validation Data, NOTE: y_val labels need to be set\n",
    "dataset_val = ROBDataset(validation_path_list, y_val, transform=t_val)\n",
    "dataloader_val = DataLoader(dataset_val, batch_size=batch_size, shuffle=False)\n",
    "\n",
    "# Test Data, NOTE: y_test labels need. to be set\n",
    "dataset_test = ROBDataset(test_path_list, y_test,transform=t_test)\n",
    "dataloader_test = DataLoader(dataset_test, batch_size=batch_size, shuffle=False)\n",
    "\n",
    "# Network, optimizer and loss initialisation\n",
    "net = Net()\n",
    "net.to(device)\n",
    "optimizer = optim.Adam(net.parameters(), lr=lr)\n",
    "criterion = nn.CrossEntropyLoss()\n",
    "\n",
    "# Los geht's mit Training\n",
    "print(\"\\nStarted Training\")\n",
    "# Training loss and accuracy per epoch\n",
    "train_loss_epoch = []\n",
    "train_acc_epoch = []\n",
    "# Validation loss and accuracy per epoch\n",
    "val_loss_epoch = []\n",
    "val_acc_epoch = []\n",
    "# Early Stopper\n",
    "early_stopper = EarlyStopper(patience=5, min_delta=0.05, max_delta=0.5)\n",
    "\n",
    "for epoch in range(0,max_epoch):  # loop over the dataset multiple times\n",
    "    print(f\"Epoch {epoch+1} from {max_epoch}\")\n",
    "\n",
    "    ### TRAINING ###\n",
    "    net.train()\n",
    "    train_loss_iter, train_acc_iter = run_iteration(dataloader_train)\n",
    "\n",
    "    # Logging loss and accuarcy of training iteration\n",
    "    train_loss_epoch.append(train_loss_iter)\n",
    "    train_acc_epoch.append(train_acc_iter)\n",
    "    print(\"\\tTrain Loss\\t\",train_loss_iter)\n",
    "    print(\"\\tTrain Acc.\\t\",train_acc_iter)\n",
    "\n",
    "    ### VALIDATION ###\n",
    "    with torch.no_grad():  # No gradient calculation\n",
    "        net.eval()\n",
    "        val_loss_iter, val_acc_iter = run_iteration(dataloader_val,do_backprob=False)\n",
    "\n",
    "        # Logging loss and accuarcy of validation iteration\n",
    "        val_loss_epoch.append(val_loss_iter)\n",
    "        val_acc_epoch.append(val_acc_iter)\n",
    "        print(\"\\tVal Loss\\t\",val_loss_iter)\n",
    "        print(\"\\tVal Acc.\\t\",val_acc_iter)\n",
    "\n",
    "    if early_stopper.early_stop(val_loss_iter):\n",
    "        break\n",
    "\n",
    "# Plotting results\n",
    "fig, ax = plt.subplots(nrows=1,ncols=2,figsize=(10,3))\n",
    "ax[0].plot(train_loss_epoch,label=\"Train\")\n",
    "ax[0].plot(val_loss_epoch,label=\"Val\",linestyle=\"-.\")\n",
    "ax[0].set_ylabel('Loss')\n",
    "ax[0].set_xlabel('Epochs')\n",
    "ax[0].legend()\n",
    "\n",
    "ax[1].plot(train_acc_epoch,label=\"Train\")\n",
    "ax[1].plot(val_acc_epoch,label=\"Val\",linestyle=\"-.\")\n",
    "ax[1].set_ylabel('Accuracy')\n",
    "ax[1].set_xlabel('Epochs')\n",
    "ax[1].legend()\n",
    "plt.savefig(\"loss_augmentation.png\",format=\"png\",bbox_inches=\"tight\")"
   ],
   "metadata": {
    "collapsed": false,
    "ExecuteTime": {
     "end_time": "2023-07-30T12:13:16.467384Z",
     "start_time": "2023-07-30T12:10:26.336645Z"
    }
   },
   "id": "5a40ce58200b717e"
  },
  {
   "cell_type": "markdown",
   "source": [
    "Berechnung der Accuracy und der Scores auf den Trainingsdaten"
   ],
   "metadata": {
    "collapsed": false
   },
   "id": "8c986982f6ead71"
  },
  {
   "cell_type": "code",
   "execution_count": 73,
   "outputs": [
    {
     "name": "stdout",
     "output_type": "stream",
     "text": [
      "Accuracy: 70 %\n",
      "F1 Score: 0.7\n",
      "Recall: 0.7\n",
      "Precision: 0.7\n",
      "Confusion matrix:\n",
      " [[4 0 1 0]\n",
      " [0 5 0 0]\n",
      " [0 0 3 2]\n",
      " [1 0 2 2]]\n"
     ]
    }
   ],
   "source": [
    "from sklearn.metrics import f1_score, recall_score, precision_score, confusion_matrix\n",
    "y_pred = [] # Create an empty list to store the predicted values\n",
    "correct = 0\n",
    "total = 0\n",
    "\n",
    "# since we're not training, we don't need to calculate the gradients for our outputs\n",
    "with torch.no_grad():\n",
    "    for data in dataloader_test:\n",
    "        images, labels = data\n",
    "        if torch.cuda.is_available():\n",
    "            images, labels = images.cuda(), labels.cuda() # send to gpu\n",
    "        # calculate outputs by running images through the network\n",
    "        outputs = net(images)\n",
    "        # the class with the highest energy is what we choose as prediction\n",
    "        _, predicted = torch.max(outputs.data, 1)\n",
    "        y_pred.extend(predicted.cpu().numpy())  # Append the predicted values to the list\n",
    "        total += labels.size(0)\n",
    "        correct += (predicted == labels).sum().item()\n",
    "\n",
    "print(f'Accuracy: {100 * correct // total} %')\n",
    "print(\"F1 Score:\", f1_score(y_test, y_pred, average='micro'))\n",
    "print(\"Recall:\", recall_score(y_test, y_pred, average='micro'))\n",
    "print(\"Precision:\", precision_score(y_test, y_pred, average='micro'))\n",
    "print('Confusion matrix:\\n', confusion_matrix(y_test, y_pred))"
   ],
   "metadata": {
    "collapsed": false,
    "ExecuteTime": {
     "end_time": "2023-07-30T12:13:38.990264Z",
     "start_time": "2023-07-30T12:13:38.745914Z"
    }
   },
   "id": "118903d3a4c031a9"
  },
  {
   "cell_type": "code",
   "execution_count": 72,
   "outputs": [],
   "source": [],
   "metadata": {
    "collapsed": false,
    "ExecuteTime": {
     "end_time": "2023-07-30T12:13:16.700443Z",
     "start_time": "2023-07-30T12:13:16.697075Z"
    }
   },
   "id": "e6bbff12521cf529"
  }
 ],
 "metadata": {
  "kernelspec": {
   "name": "python3",
   "language": "python",
   "display_name": "Python 3 (ipykernel)"
  },
  "language_info": {
   "codemirror_mode": {
    "name": "ipython",
    "version": 3
   },
   "file_extension": ".py",
   "mimetype": "text/x-python",
   "name": "python",
   "nbconvert_exporter": "python",
   "pygments_lexer": "ipython3",
   "version": "3.10.8"
  },
  "colab": {
   "provenance": [],
   "gpuType": "T4"
  },
  "accelerator": "GPU"
 },
 "nbformat": 4,
 "nbformat_minor": 5
}
