{
 "cells": [
  {
   "cell_type": "markdown",
   "id": "f0400fe7-1e50-481d-bb7e-62f2c126d4c2",
   "metadata": {},
   "source": [
    "# Aufgabe 3 - Tiefe Einblicke ins Institut: Reloaded"
   ]
  },
  {
   "cell_type": "markdown",
   "id": "e59687f3-c461-4f6e-a898-d023cdc8c67c",
   "metadata": {},
   "source": [
    "Den Code immer nachvollziehbar kommentieren! Bitte beachtet, dass das Notebook von Anfang bis Ende ohne Fehler durchlaufen muss und dass die requirements.txt Datei aktualisiert wird. "
   ]
  },
  {
   "cell_type": "code",
   "execution_count": 1,
   "id": "48e97f2a-c3df-4121-8b13-eb35a1e77435",
   "metadata": {
    "ExecuteTime": {
     "start_time": "2023-04-21T14:00:00.686566Z",
     "end_time": "2023-04-21T14:00:04.835733Z"
    }
   },
   "outputs": [],
   "source": [
    "import os\n",
    "import random\n",
    "\n",
    "import torch\n",
    "import torch.nn as nn\n",
    "import torch.nn.functional as F  \n",
    "import torchvision.transforms as T\n",
    "import torch.optim as optim\n",
    "from torchvision.io import read_image\n",
    "from torch.utils.data import DataLoader\n",
    "from torch.utils.data import Dataset\n",
    "\n",
    "import numpy as np\n",
    "import matplotlib.pyplot as plt "
   ]
  },
  {
   "cell_type": "markdown",
   "id": "ec5f0020-55eb-4023-a883-90ac6206cfb3",
   "metadata": {},
   "source": [
    "## Teilaufgabe a): Trainings-, Test-und Validierungsdatenset"
   ]
  },
  {
   "cell_type": "code",
   "execution_count": 64,
   "id": "2c91f492-e05c-4a7f-9a1c-8674e2ed71d4",
   "metadata": {
    "ExecuteTime": {
     "start_time": "2023-04-21T14:00:04.829357Z",
     "end_time": "2023-04-21T14:00:04.836102Z"
    }
   },
   "outputs": [],
   "source": [
    "training_list = []\n",
    "test_list = []\n",
    "validation_list = []\n",
    "\n",
    "name_to_label = {\n",
    "            'Professorenbuero': 1,\n",
    "            'Flur': 2,\n",
    "            'Labor': 3,\n",
    "            'Teekueche': 4\n",
    "        }\n",
    "\n",
    "for path_name in name_to_label.keys():\n",
    "    pic_amount = len(os.listdir(f\"Bilder/{path_name}\"))\n",
    "    tmp_paths = [(f\"Bilder/{path_name}/{path_name + str(i + 1)}.jpg\", name_to_label[path_name] )for i in range(pic_amount)] #(Tensor,lbl) list\n",
    "    random.shuffle(tmp_paths)\n",
    "\n",
    "    training_list += tmp_paths[:int(0.7 * pic_amount)]\n",
    "    validation_list += tmp_paths[int(0.7 * pic_amount):int(0.8 * pic_amount)] # 3 pics each\n",
    "    test_list += tmp_paths[int(0.8 * pic_amount):]\n",
    "\n",
    "training_path_list, training_labels = [tup[0] for tup in training_list], [tup[1] for tup in training_list]\n",
    "test_path_list, test_labels = [tup[0] for tup in test_list], [tup[1] for tup in test_list]\n",
    "validation_path_list, validation_labels = [tup[0] for tup in validation_list], [tup[1] for tup in validation_list] # [\"./pfad/zu/bildZ.png\",\"./pfad/zu/bildY.png\",...], [1,1,1,2,2,2,...]"
   ]
  },
  {
   "cell_type": "markdown",
   "id": "b16c6c68-033e-4d57-ba02-fc86c53f34f1",
   "metadata": {},
   "source": [
    "## Teilaufgabe b): CNN definieren und implementieren"
   ]
  },
  {
   "cell_type": "code",
   "execution_count": 3,
   "id": "3f484794-3ab2-4edf-84e4-8debf29b1d57",
   "metadata": {
    "ExecuteTime": {
     "start_time": "2023-04-21T14:00:04.837168Z",
     "end_time": "2023-04-21T14:00:04.840591Z"
    }
   },
   "outputs": [],
   "source": [
    "class Net(nn.Module):\n",
    "    def __init__(self):\n",
    "        super(Net, self).__init__()\n",
    "        self.net = nn.Linear(3,4)\n",
    "\n",
    "    def forward(self, x):\n",
    "        \n",
    "        return self.net(x)\n",
    "    "
   ]
  },
  {
   "cell_type": "markdown",
   "id": "2bb17fba-193f-4873-a631-7a902bb54675",
   "metadata": {
    "tags": []
   },
   "source": [
    "## Teilaufgabe c): Training und Test mit CNN"
   ]
  },
  {
   "cell_type": "markdown",
   "id": "1369c7d9-bb8e-4856-943e-317067000bb7",
   "metadata": {},
   "source": [
    "Datenset-Klasse um mit Pytorch Bilder zu laden. \n",
    "\n",
    "Input sind: \n",
    "- Liste mit Pfaden zu Bildern\n",
    "- Liste mit dazugehörigen Labels (numerisch darstellen!) \n",
    "- Transformation der Bilder\n"
   ]
  },
  {
   "cell_type": "code",
   "execution_count": 4,
   "id": "c3b2967c-06da-4bda-a6a6-a0994d92bdc6",
   "metadata": {
    "ExecuteTime": {
     "start_time": "2023-04-21T14:00:04.842868Z",
     "end_time": "2023-04-21T14:00:04.847833Z"
    }
   },
   "outputs": [],
   "source": [
    "class ROBDataset(Dataset):\n",
    "    def __init__(self, img_path_list, img_labels, transform=None):\n",
    "        # Pfade zu den Bildern als list\n",
    "        self.img_path_list = img_path_list\n",
    "        \n",
    "        # Dazugehörige Labels zu den Bildern als list\n",
    "        self.img_labels = img_labels\n",
    "        \n",
    "        # Transformations der Bilder\n",
    "        self.transform = transform\n",
    "\n",
    "    def __len__(self):\n",
    "        return len(self.img_path_list)\n",
    "\n",
    "    def __getitem__(self, idx):\n",
    "        # Bild laden\n",
    "        img_path = self.img_path_list[idx]\n",
    "        image = read_image(img_path)\n",
    "        \n",
    "        # Label laden\n",
    "        label = self.img_labels[idx]\n",
    "        \n",
    "        # Transformieren\n",
    "        if self.transform:\n",
    "            image = self.transform(image)\n",
    "            \n",
    "        return image.float(), int(label)"
   ]
  },
  {
   "cell_type": "markdown",
   "id": "fdb8928b-daf3-459e-a540-aa98944b18e3",
   "metadata": {},
   "source": [
    "Trainingsiteration über alle Bilder.\n",
    "\n",
    "Inputs sind:\n",
    "- Pytorch dataloader Object über das iteriert wird\n",
    "- bool do_backprob Parameter um Backpropagation durchzuführen oder nicht"
   ]
  },
  {
   "cell_type": "code",
   "execution_count": 5,
   "id": "aaaff24b-78a7-4701-915d-0e271402f70a",
   "metadata": {
    "ExecuteTime": {
     "start_time": "2023-04-21T14:00:04.852552Z",
     "end_time": "2023-04-21T14:00:04.865096Z"
    }
   },
   "outputs": [],
   "source": [
    "# Iterating over the entire data set once\n",
    "def run_iteration(dataloader, do_backprob=True):\n",
    "    global net, optimizer, criterion\n",
    "    loss_iter = []\n",
    "    acc_iter = []\n",
    "    for batch_x, batch_y in dataloader:\n",
    "        # To device\n",
    "        batch_x = batch_x.to(device)\n",
    "        batch_y = batch_y.to(device)\n",
    "        \n",
    "        # zero the parameter gradients\n",
    "        optimizer.zero_grad()\n",
    "        \n",
    "        # forward + backward + optimize\n",
    "        y_predict = net(batch_x)\n",
    "        loss = criterion(y_predict, batch_y)\n",
    "        if do_backprob:\n",
    "            loss.backward()\n",
    "            optimizer.step()\n",
    "\n",
    "        # statistics\n",
    "        loss_iter.append(loss.detach().cpu().numpy())\n",
    "        \n",
    "        _, predicted = torch.max(torch.softmax(y_predict, dim=1),1)\n",
    "        \n",
    "        acc_iter.append(accuracy_score(batch_y.detach().cpu().numpy(), \n",
    "                                       predicted.detach().cpu().numpy()))\n",
    "    \n",
    "    return np.mean(loss_iter), np.mean(acc_iter)"
   ]
  },
  {
   "cell_type": "markdown",
   "id": "0e616ae6-75e5-42a1-be39-d914424fe62d",
   "metadata": {},
   "source": [
    "Komplette Durchführung eines Trainings\n",
    "Die Variablen y_train, y_val und y_test müssen noch gesetzt werden. Diese Listen beinhalten die entsprechenden Labels als numerische Darstellung."
   ]
  },
  {
   "cell_type": "code",
   "execution_count": 6,
   "id": "094c918f-85f4-48b5-a089-4215da53b075",
   "metadata": {},
   "outputs": [
    {
     "name": "stdout",
     "output_type": "stream",
     "text": [
      "Running on  cpu\n"
     ]
    },
    {
     "ename": "NameError",
     "evalue": "name 'y_train' is not defined",
     "output_type": "error",
     "traceback": [
      "\u001B[0;31m---------------------------------------------------------------------------\u001B[0m",
      "\u001B[0;31mNameError\u001B[0m                                 Traceback (most recent call last)",
      "Cell \u001B[0;32mIn[6], line 22\u001B[0m\n\u001B[1;32m     19\u001B[0m \u001B[38;5;28mprint\u001B[39m(\u001B[38;5;124m\"\u001B[39m\u001B[38;5;124mRunning on \u001B[39m\u001B[38;5;124m\"\u001B[39m,device)\n\u001B[1;32m     21\u001B[0m \u001B[38;5;66;03m# Training Data, NOTE: y_train labels need to be set\u001B[39;00m\n\u001B[0;32m---> 22\u001B[0m dataset_train \u001B[38;5;241m=\u001B[39m ROBDataset(training_path_list, \u001B[43my_train\u001B[49m, transform\u001B[38;5;241m=\u001B[39mt_train)\n\u001B[1;32m     23\u001B[0m dataloader_train \u001B[38;5;241m=\u001B[39m DataLoader(dataset_train, batch_size\u001B[38;5;241m=\u001B[39mbatch_size, shuffle\u001B[38;5;241m=\u001B[39m\u001B[38;5;28;01mTrue\u001B[39;00m)\n\u001B[1;32m     25\u001B[0m \u001B[38;5;66;03m# Validation Data, NOTE: y_val labels need to be set\u001B[39;00m\n",
      "\u001B[0;31mNameError\u001B[0m: name 'y_train' is not defined"
     ]
    }
   ],
   "source": [
    "# Training settings - bei Bedarf anpassbar\n",
    "max_epoch = 100\n",
    "batch_size = 16\n",
    "lr = 0.001\n",
    "\n",
    "# Transformations for dataloader\n",
    "t_train = T.Compose([T.ToPILImage(),\n",
    "                   T.ToTensor(),\n",
    "                   T.Normalize(mean=(0.5, 0.5, 0.5), std=(0.5, 0.5, 0.5))])\n",
    "t_val = T.Compose([T.ToPILImage(),\n",
    "                   T.ToTensor(),\n",
    "                   T.Normalize(mean=(0.5, 0.5, 0.5), std=(0.5, 0.5, 0.5))])\n",
    "t_test = T.Compose([T.ToPILImage(),\n",
    "                   T.ToTensor(),\n",
    "                   T.Normalize(mean=(0.5, 0.5, 0.5), std=(0.5, 0.5, 0.5))])\n",
    "\n",
    "# Where to do calculations\n",
    "device = torch.device(\"cuda:0\" if torch.cuda.is_available() else \"cpu\")\n",
    "print(\"Running on \",device)\n",
    "\n",
    "# Training Data, NOTE: y_train labels need to be set\n",
    "dataset_train = ROBDataset(training_path_list, y_train, transform=t_train)\n",
    "dataloader_train = DataLoader(dataset_train, batch_size=batch_size, shuffle=True)\n",
    "\n",
    "# Validation Data, NOTE: y_val labels need to be set\n",
    "dataset_val = ROBDataset(validation_path_list, y_val, transform=t_train)\n",
    "dataloader_val = DataLoader(dataset_val, batch_size=batch_size, shuffle=False)\n",
    "\n",
    "# Test Data, NOTE: y_test labels need. to be set\n",
    "dataset_test = ROBDataset(test_path_list, y_test,transform=t_test)\n",
    "dataloader_test = DataLoader(dataset_test, batch_size=batch_size, shuffle=False)\n",
    "\n",
    "# Network, optimizer and loss initialisation\n",
    "net = Net()\n",
    "net.to(device)\n",
    "optimizer = optim.Adam(net.parameters(), lr=lr)\n",
    "criterion = nn.CrossEntropyLoss()\n",
    "\n",
    "# Los geht's mit Training\n",
    "print(\"\\nStarted Training\")\n",
    "# Training loss and accuracy per epoch\n",
    "train_loss_epoch = []\n",
    "train_acc_epoch = []\n",
    "# Validation loss and accuracy per epoch\n",
    "val_loss_epoch = []\n",
    "val_acc_epoch = []\n",
    "\n",
    "for epoch in range(0,max_epoch):  # loop over the dataset multiple times\n",
    "    print(f\"Epoch {epoch+1} from {max_epoch}\")\n",
    "    \n",
    "    ### TRAINING ###\n",
    "    net.train()\n",
    "    train_loss_iter, train_acc_iter = run_iteration(dataloader_train)\n",
    "\n",
    "    # Logging loss and accuarcy of training iteration\n",
    "    train_loss_epoch.append(train_loss_iter)\n",
    "    train_acc_epoch.append(train_acc_iter)\n",
    "    print(\"\\tTrain Loss\\t\",train_loss_iter)\n",
    "    print(\"\\tTrain Acc.\\t\",train_acc_iter)\n",
    "    \n",
    "    ### VALIDATION ###\n",
    "    with torch.no_grad():  # No gradient calculation\n",
    "        net.eval()\n",
    "        val_loss_iter, val_acc_iter = run_iteration(dataloader_val,do_backprob=False)\n",
    "\n",
    "        # Logging loss and accuarcy of validation iteration\n",
    "        val_loss_epoch.append(val_loss_iter)\n",
    "        val_acc_epoch.append(val_acc_iter)\n",
    "        print(\"\\tVal Loss\\t\",val_loss_iter)\n",
    "        print(\"\\tVal Acc.\\t\",val_acc_iter)\n",
    "\n",
    "# Plotting results\n",
    "fig, ax = plt.subplots(nrows=1,ncols=2,figsize=(10,3))\n",
    "ax[0].plot(train_loss_epoch,label=\"Train\")\n",
    "ax[0].plot(val_loss_epoch,label=\"Val\",linestyle=\"-.\")\n",
    "ax[0].set_ylabel('Loss')\n",
    "ax[0].set_xlabel('Epochs')\n",
    "ax[0].legend()\n",
    "\n",
    "ax[1].plot(train_acc_epoch,label=\"Train\")\n",
    "ax[1].plot(val_acc_epoch,label=\"Val\",linestyle=\"-.\")\n",
    "ax[1].set_ylabel('Accuracy')\n",
    "ax[1].set_xlabel('Epochs')\n",
    "ax[1].legend()\n",
    "plt.savefig(\"loss_augmentation.png\",format=\"png\",bbox_inches=\"tight\")\n",
    "plt.show()"
   ]
  },
  {
   "cell_type": "code",
   "execution_count": null,
   "id": "823af297-bb62-4e02-a376-99fc47618b08",
   "metadata": {},
   "outputs": [],
   "source": []
  },
  {
   "cell_type": "markdown",
   "id": "51e14a88-cf54-40a0-b118-05e243e0b995",
   "metadata": {
    "tags": []
   },
   "source": [
    "## Teilaufgabe d): Augmentierung"
   ]
  },
  {
   "cell_type": "code",
   "execution_count": null,
   "id": "65263759-2c02-43f0-b756-c8f8ad77b75e",
   "metadata": {},
   "outputs": [],
   "source": []
  },
  {
   "cell_type": "markdown",
   "id": "ba0cffb4-b4dd-4df8-b7d5-f2f98c8a698b",
   "metadata": {
    "tags": []
   },
   "source": [
    "## Teilaufgabe e): Early Stopping"
   ]
  },
  {
   "cell_type": "code",
   "execution_count": null,
   "id": "4a72c1da-07de-4252-a4a9-b373918b1cf2",
   "metadata": {
    "tags": []
   },
   "outputs": [],
   "source": []
  }
 ],
 "metadata": {
  "kernelspec": {
   "display_name": "Python 3 (ipykernel)",
   "language": "python",
   "name": "python3"
  },
  "language_info": {
   "codemirror_mode": {
    "name": "ipython",
    "version": 3
   },
   "file_extension": ".py",
   "mimetype": "text/x-python",
   "name": "python",
   "nbconvert_exporter": "python",
   "pygments_lexer": "ipython3",
   "version": "3.10.8"
  }
 },
 "nbformat": 4,
 "nbformat_minor": 5
}
